{
 "cells": [
  {
   "cell_type": "code",
   "execution_count": 1,
   "metadata": {},
   "outputs": [],
   "source": [
    "import numpy as np\n",
    "import pandas as pd\n",
    "import matplotlib.pyplot as plt"
   ]
  },
  {
   "cell_type": "markdown",
   "metadata": {},
   "source": [
    "Importing the Dataset"
   ]
  },
  {
   "cell_type": "code",
   "execution_count": 2,
   "metadata": {},
   "outputs": [
    {
     "data": {
      "text/html": [
       "<div>\n",
       "<style scoped>\n",
       "    .dataframe tbody tr th:only-of-type {\n",
       "        vertical-align: middle;\n",
       "    }\n",
       "\n",
       "    .dataframe tbody tr th {\n",
       "        vertical-align: top;\n",
       "    }\n",
       "\n",
       "    .dataframe thead th {\n",
       "        text-align: right;\n",
       "    }\n",
       "</style>\n",
       "<table border=\"1\" class=\"dataframe\">\n",
       "  <thead>\n",
       "    <tr style=\"text-align: right;\">\n",
       "      <th></th>\n",
       "      <th>RowNumber</th>\n",
       "      <th>CustomerId</th>\n",
       "      <th>Surname</th>\n",
       "      <th>CreditScore</th>\n",
       "      <th>Geography</th>\n",
       "      <th>Gender</th>\n",
       "      <th>Age</th>\n",
       "      <th>Tenure</th>\n",
       "      <th>Balance</th>\n",
       "      <th>NumOfProducts</th>\n",
       "      <th>HasCrCard</th>\n",
       "      <th>IsActiveMember</th>\n",
       "      <th>EstimatedSalary</th>\n",
       "      <th>Exited</th>\n",
       "    </tr>\n",
       "  </thead>\n",
       "  <tbody>\n",
       "    <tr>\n",
       "      <th>0</th>\n",
       "      <td>1</td>\n",
       "      <td>15634602</td>\n",
       "      <td>Hargrave</td>\n",
       "      <td>619</td>\n",
       "      <td>France</td>\n",
       "      <td>Female</td>\n",
       "      <td>42</td>\n",
       "      <td>2</td>\n",
       "      <td>0.00</td>\n",
       "      <td>1</td>\n",
       "      <td>1</td>\n",
       "      <td>1</td>\n",
       "      <td>101348.88</td>\n",
       "      <td>1</td>\n",
       "    </tr>\n",
       "    <tr>\n",
       "      <th>1</th>\n",
       "      <td>2</td>\n",
       "      <td>15647311</td>\n",
       "      <td>Hill</td>\n",
       "      <td>608</td>\n",
       "      <td>Spain</td>\n",
       "      <td>Female</td>\n",
       "      <td>41</td>\n",
       "      <td>1</td>\n",
       "      <td>83807.86</td>\n",
       "      <td>1</td>\n",
       "      <td>0</td>\n",
       "      <td>1</td>\n",
       "      <td>112542.58</td>\n",
       "      <td>0</td>\n",
       "    </tr>\n",
       "    <tr>\n",
       "      <th>2</th>\n",
       "      <td>3</td>\n",
       "      <td>15619304</td>\n",
       "      <td>Onio</td>\n",
       "      <td>502</td>\n",
       "      <td>France</td>\n",
       "      <td>Female</td>\n",
       "      <td>42</td>\n",
       "      <td>8</td>\n",
       "      <td>159660.80</td>\n",
       "      <td>3</td>\n",
       "      <td>1</td>\n",
       "      <td>0</td>\n",
       "      <td>113931.57</td>\n",
       "      <td>1</td>\n",
       "    </tr>\n",
       "    <tr>\n",
       "      <th>3</th>\n",
       "      <td>4</td>\n",
       "      <td>15701354</td>\n",
       "      <td>Boni</td>\n",
       "      <td>699</td>\n",
       "      <td>France</td>\n",
       "      <td>Female</td>\n",
       "      <td>39</td>\n",
       "      <td>1</td>\n",
       "      <td>0.00</td>\n",
       "      <td>2</td>\n",
       "      <td>0</td>\n",
       "      <td>0</td>\n",
       "      <td>93826.63</td>\n",
       "      <td>0</td>\n",
       "    </tr>\n",
       "    <tr>\n",
       "      <th>4</th>\n",
       "      <td>5</td>\n",
       "      <td>15737888</td>\n",
       "      <td>Mitchell</td>\n",
       "      <td>850</td>\n",
       "      <td>Spain</td>\n",
       "      <td>Female</td>\n",
       "      <td>43</td>\n",
       "      <td>2</td>\n",
       "      <td>125510.82</td>\n",
       "      <td>1</td>\n",
       "      <td>1</td>\n",
       "      <td>1</td>\n",
       "      <td>79084.10</td>\n",
       "      <td>0</td>\n",
       "    </tr>\n",
       "  </tbody>\n",
       "</table>\n",
       "</div>"
      ],
      "text/plain": [
       "   RowNumber  CustomerId   Surname  CreditScore Geography  Gender  Age  \\\n",
       "0          1    15634602  Hargrave          619    France  Female   42   \n",
       "1          2    15647311      Hill          608     Spain  Female   41   \n",
       "2          3    15619304      Onio          502    France  Female   42   \n",
       "3          4    15701354      Boni          699    France  Female   39   \n",
       "4          5    15737888  Mitchell          850     Spain  Female   43   \n",
       "\n",
       "   Tenure    Balance  NumOfProducts  HasCrCard  IsActiveMember  \\\n",
       "0       2       0.00              1          1               1   \n",
       "1       1   83807.86              1          0               1   \n",
       "2       8  159660.80              3          1               0   \n",
       "3       1       0.00              2          0               0   \n",
       "4       2  125510.82              1          1               1   \n",
       "\n",
       "   EstimatedSalary  Exited  \n",
       "0        101348.88       1  \n",
       "1        112542.58       0  \n",
       "2        113931.57       1  \n",
       "3         93826.63       0  \n",
       "4         79084.10       0  "
      ]
     },
     "execution_count": 2,
     "metadata": {},
     "output_type": "execute_result"
    }
   ],
   "source": [
    "data = pd.read_csv('bank_Churn_dataset.csv')\n",
    "data.head()"
   ]
  },
  {
   "cell_type": "markdown",
   "metadata": {},
   "source": [
    "Dropping the Unnecessary Columns"
   ]
  },
  {
   "cell_type": "code",
   "execution_count": 3,
   "metadata": {},
   "outputs": [
    {
     "data": {
      "text/html": [
       "<div>\n",
       "<style scoped>\n",
       "    .dataframe tbody tr th:only-of-type {\n",
       "        vertical-align: middle;\n",
       "    }\n",
       "\n",
       "    .dataframe tbody tr th {\n",
       "        vertical-align: top;\n",
       "    }\n",
       "\n",
       "    .dataframe thead th {\n",
       "        text-align: right;\n",
       "    }\n",
       "</style>\n",
       "<table border=\"1\" class=\"dataframe\">\n",
       "  <thead>\n",
       "    <tr style=\"text-align: right;\">\n",
       "      <th></th>\n",
       "      <th>CreditScore</th>\n",
       "      <th>Geography</th>\n",
       "      <th>Gender</th>\n",
       "      <th>Age</th>\n",
       "      <th>Tenure</th>\n",
       "      <th>Balance</th>\n",
       "      <th>NumOfProducts</th>\n",
       "      <th>HasCrCard</th>\n",
       "      <th>IsActiveMember</th>\n",
       "      <th>EstimatedSalary</th>\n",
       "      <th>Exited</th>\n",
       "    </tr>\n",
       "  </thead>\n",
       "  <tbody>\n",
       "    <tr>\n",
       "      <th>0</th>\n",
       "      <td>619</td>\n",
       "      <td>France</td>\n",
       "      <td>Female</td>\n",
       "      <td>42</td>\n",
       "      <td>2</td>\n",
       "      <td>0.00</td>\n",
       "      <td>1</td>\n",
       "      <td>1</td>\n",
       "      <td>1</td>\n",
       "      <td>101348.88</td>\n",
       "      <td>1</td>\n",
       "    </tr>\n",
       "    <tr>\n",
       "      <th>1</th>\n",
       "      <td>608</td>\n",
       "      <td>Spain</td>\n",
       "      <td>Female</td>\n",
       "      <td>41</td>\n",
       "      <td>1</td>\n",
       "      <td>83807.86</td>\n",
       "      <td>1</td>\n",
       "      <td>0</td>\n",
       "      <td>1</td>\n",
       "      <td>112542.58</td>\n",
       "      <td>0</td>\n",
       "    </tr>\n",
       "    <tr>\n",
       "      <th>2</th>\n",
       "      <td>502</td>\n",
       "      <td>France</td>\n",
       "      <td>Female</td>\n",
       "      <td>42</td>\n",
       "      <td>8</td>\n",
       "      <td>159660.80</td>\n",
       "      <td>3</td>\n",
       "      <td>1</td>\n",
       "      <td>0</td>\n",
       "      <td>113931.57</td>\n",
       "      <td>1</td>\n",
       "    </tr>\n",
       "    <tr>\n",
       "      <th>3</th>\n",
       "      <td>699</td>\n",
       "      <td>France</td>\n",
       "      <td>Female</td>\n",
       "      <td>39</td>\n",
       "      <td>1</td>\n",
       "      <td>0.00</td>\n",
       "      <td>2</td>\n",
       "      <td>0</td>\n",
       "      <td>0</td>\n",
       "      <td>93826.63</td>\n",
       "      <td>0</td>\n",
       "    </tr>\n",
       "    <tr>\n",
       "      <th>4</th>\n",
       "      <td>850</td>\n",
       "      <td>Spain</td>\n",
       "      <td>Female</td>\n",
       "      <td>43</td>\n",
       "      <td>2</td>\n",
       "      <td>125510.82</td>\n",
       "      <td>1</td>\n",
       "      <td>1</td>\n",
       "      <td>1</td>\n",
       "      <td>79084.10</td>\n",
       "      <td>0</td>\n",
       "    </tr>\n",
       "  </tbody>\n",
       "</table>\n",
       "</div>"
      ],
      "text/plain": [
       "   CreditScore Geography  Gender  Age  Tenure    Balance  NumOfProducts  \\\n",
       "0          619    France  Female   42       2       0.00              1   \n",
       "1          608     Spain  Female   41       1   83807.86              1   \n",
       "2          502    France  Female   42       8  159660.80              3   \n",
       "3          699    France  Female   39       1       0.00              2   \n",
       "4          850     Spain  Female   43       2  125510.82              1   \n",
       "\n",
       "   HasCrCard  IsActiveMember  EstimatedSalary  Exited  \n",
       "0          1               1        101348.88       1  \n",
       "1          0               1        112542.58       0  \n",
       "2          1               0        113931.57       1  \n",
       "3          0               0         93826.63       0  \n",
       "4          1               1         79084.10       0  "
      ]
     },
     "execution_count": 3,
     "metadata": {},
     "output_type": "execute_result"
    }
   ],
   "source": [
    "data.drop(['RowNumber', 'CustomerId', 'Surname'], axis = 1, inplace = True)\n",
    "data.head()"
   ]
  },
  {
   "cell_type": "code",
   "execution_count": 4,
   "metadata": {},
   "outputs": [
    {
     "data": {
      "text/plain": [
       "CreditScore          int64\n",
       "Geography           object\n",
       "Gender              object\n",
       "Age                  int64\n",
       "Tenure               int64\n",
       "Balance            float64\n",
       "NumOfProducts        int64\n",
       "HasCrCard            int64\n",
       "IsActiveMember       int64\n",
       "EstimatedSalary    float64\n",
       "Exited               int64\n",
       "dtype: object"
      ]
     },
     "execution_count": 4,
     "metadata": {},
     "output_type": "execute_result"
    }
   ],
   "source": [
    "data.dtypes"
   ]
  },
  {
   "cell_type": "code",
   "execution_count": 5,
   "metadata": {},
   "outputs": [
    {
     "data": {
      "text/plain": [
       "CreditScore        0\n",
       "Geography          0\n",
       "Gender             0\n",
       "Age                0\n",
       "Tenure             0\n",
       "Balance            0\n",
       "NumOfProducts      0\n",
       "HasCrCard          0\n",
       "IsActiveMember     0\n",
       "EstimatedSalary    0\n",
       "Exited             0\n",
       "dtype: int64"
      ]
     },
     "execution_count": 5,
     "metadata": {},
     "output_type": "execute_result"
    }
   ],
   "source": [
    "data.isnull().sum()"
   ]
  },
  {
   "cell_type": "markdown",
   "metadata": {},
   "source": [
    "Seeing for if  there is any unique dataset in Object dtatype to convert in to Numeric Form"
   ]
  },
  {
   "cell_type": "code",
   "execution_count": 6,
   "metadata": {},
   "outputs": [
    {
     "name": "stdout",
     "output_type": "stream",
     "text": [
      "['France' 'Spain' 'Germany']\n",
      "['Female' 'Male']\n"
     ]
    }
   ],
   "source": [
    "for column in data:\n",
    "    if data[column].dtypes == 'object':\n",
    "        print(data[column].unique())"
   ]
  },
  {
   "cell_type": "markdown",
   "metadata": {},
   "source": [
    "Replacing the categorical data to its numeric form"
   ]
  },
  {
   "cell_type": "code",
   "execution_count": 7,
   "metadata": {},
   "outputs": [],
   "source": [
    "data['Gender'].replace({'Female':1, 'Male':0}, inplace = True)\n",
    "data['Geography'].replace({'France':0, 'Spain':1, 'Germany':2}, inplace = True)"
   ]
  },
  {
   "cell_type": "code",
   "execution_count": 8,
   "metadata": {},
   "outputs": [
    {
     "data": {
      "text/html": [
       "<div>\n",
       "<style scoped>\n",
       "    .dataframe tbody tr th:only-of-type {\n",
       "        vertical-align: middle;\n",
       "    }\n",
       "\n",
       "    .dataframe tbody tr th {\n",
       "        vertical-align: top;\n",
       "    }\n",
       "\n",
       "    .dataframe thead th {\n",
       "        text-align: right;\n",
       "    }\n",
       "</style>\n",
       "<table border=\"1\" class=\"dataframe\">\n",
       "  <thead>\n",
       "    <tr style=\"text-align: right;\">\n",
       "      <th></th>\n",
       "      <th>CreditScore</th>\n",
       "      <th>Geography</th>\n",
       "      <th>Gender</th>\n",
       "      <th>Age</th>\n",
       "      <th>Tenure</th>\n",
       "      <th>Balance</th>\n",
       "      <th>NumOfProducts</th>\n",
       "      <th>HasCrCard</th>\n",
       "      <th>IsActiveMember</th>\n",
       "      <th>EstimatedSalary</th>\n",
       "      <th>Exited</th>\n",
       "    </tr>\n",
       "  </thead>\n",
       "  <tbody>\n",
       "    <tr>\n",
       "      <th>0</th>\n",
       "      <td>619</td>\n",
       "      <td>0</td>\n",
       "      <td>1</td>\n",
       "      <td>42</td>\n",
       "      <td>2</td>\n",
       "      <td>0.00</td>\n",
       "      <td>1</td>\n",
       "      <td>1</td>\n",
       "      <td>1</td>\n",
       "      <td>101348.88</td>\n",
       "      <td>1</td>\n",
       "    </tr>\n",
       "    <tr>\n",
       "      <th>1</th>\n",
       "      <td>608</td>\n",
       "      <td>1</td>\n",
       "      <td>1</td>\n",
       "      <td>41</td>\n",
       "      <td>1</td>\n",
       "      <td>83807.86</td>\n",
       "      <td>1</td>\n",
       "      <td>0</td>\n",
       "      <td>1</td>\n",
       "      <td>112542.58</td>\n",
       "      <td>0</td>\n",
       "    </tr>\n",
       "    <tr>\n",
       "      <th>2</th>\n",
       "      <td>502</td>\n",
       "      <td>0</td>\n",
       "      <td>1</td>\n",
       "      <td>42</td>\n",
       "      <td>8</td>\n",
       "      <td>159660.80</td>\n",
       "      <td>3</td>\n",
       "      <td>1</td>\n",
       "      <td>0</td>\n",
       "      <td>113931.57</td>\n",
       "      <td>1</td>\n",
       "    </tr>\n",
       "    <tr>\n",
       "      <th>3</th>\n",
       "      <td>699</td>\n",
       "      <td>0</td>\n",
       "      <td>1</td>\n",
       "      <td>39</td>\n",
       "      <td>1</td>\n",
       "      <td>0.00</td>\n",
       "      <td>2</td>\n",
       "      <td>0</td>\n",
       "      <td>0</td>\n",
       "      <td>93826.63</td>\n",
       "      <td>0</td>\n",
       "    </tr>\n",
       "    <tr>\n",
       "      <th>4</th>\n",
       "      <td>850</td>\n",
       "      <td>1</td>\n",
       "      <td>1</td>\n",
       "      <td>43</td>\n",
       "      <td>2</td>\n",
       "      <td>125510.82</td>\n",
       "      <td>1</td>\n",
       "      <td>1</td>\n",
       "      <td>1</td>\n",
       "      <td>79084.10</td>\n",
       "      <td>0</td>\n",
       "    </tr>\n",
       "  </tbody>\n",
       "</table>\n",
       "</div>"
      ],
      "text/plain": [
       "   CreditScore  Geography  Gender  Age  Tenure    Balance  NumOfProducts  \\\n",
       "0          619          0       1   42       2       0.00              1   \n",
       "1          608          1       1   41       1   83807.86              1   \n",
       "2          502          0       1   42       8  159660.80              3   \n",
       "3          699          0       1   39       1       0.00              2   \n",
       "4          850          1       1   43       2  125510.82              1   \n",
       "\n",
       "   HasCrCard  IsActiveMember  EstimatedSalary  Exited  \n",
       "0          1               1        101348.88       1  \n",
       "1          0               1        112542.58       0  \n",
       "2          1               0        113931.57       1  \n",
       "3          0               0         93826.63       0  \n",
       "4          1               1         79084.10       0  "
      ]
     },
     "execution_count": 8,
     "metadata": {},
     "output_type": "execute_result"
    }
   ],
   "source": [
    "data.head()"
   ]
  },
  {
   "cell_type": "code",
   "execution_count": 9,
   "metadata": {},
   "outputs": [],
   "source": [
    "for column in data:\n",
    "    if data[column].dtypes == 'object':\n",
    "        print(data[column].unique())\n",
    "#there are no unique elements"
   ]
  },
  {
   "cell_type": "markdown",
   "metadata": {},
   "source": [
    "Scaling the data for the columns ['CreditScore', 'Age', 'Tenure', 'Balance', 'EstimatedSalary']"
   ]
  },
  {
   "cell_type": "code",
   "execution_count": 10,
   "metadata": {},
   "outputs": [
    {
     "data": {
      "text/html": [
       "<div>\n",
       "<style scoped>\n",
       "    .dataframe tbody tr th:only-of-type {\n",
       "        vertical-align: middle;\n",
       "    }\n",
       "\n",
       "    .dataframe tbody tr th {\n",
       "        vertical-align: top;\n",
       "    }\n",
       "\n",
       "    .dataframe thead th {\n",
       "        text-align: right;\n",
       "    }\n",
       "</style>\n",
       "<table border=\"1\" class=\"dataframe\">\n",
       "  <thead>\n",
       "    <tr style=\"text-align: right;\">\n",
       "      <th></th>\n",
       "      <th>CreditScore</th>\n",
       "      <th>Geography</th>\n",
       "      <th>Gender</th>\n",
       "      <th>Age</th>\n",
       "      <th>Tenure</th>\n",
       "      <th>Balance</th>\n",
       "      <th>NumOfProducts</th>\n",
       "      <th>HasCrCard</th>\n",
       "      <th>IsActiveMember</th>\n",
       "      <th>EstimatedSalary</th>\n",
       "      <th>Exited</th>\n",
       "    </tr>\n",
       "  </thead>\n",
       "  <tbody>\n",
       "    <tr>\n",
       "      <th>0</th>\n",
       "      <td>619</td>\n",
       "      <td>0</td>\n",
       "      <td>1</td>\n",
       "      <td>42</td>\n",
       "      <td>2</td>\n",
       "      <td>0.00</td>\n",
       "      <td>1</td>\n",
       "      <td>1</td>\n",
       "      <td>1</td>\n",
       "      <td>101348.88</td>\n",
       "      <td>1</td>\n",
       "    </tr>\n",
       "    <tr>\n",
       "      <th>1</th>\n",
       "      <td>608</td>\n",
       "      <td>1</td>\n",
       "      <td>1</td>\n",
       "      <td>41</td>\n",
       "      <td>1</td>\n",
       "      <td>83807.86</td>\n",
       "      <td>1</td>\n",
       "      <td>0</td>\n",
       "      <td>1</td>\n",
       "      <td>112542.58</td>\n",
       "      <td>0</td>\n",
       "    </tr>\n",
       "    <tr>\n",
       "      <th>2</th>\n",
       "      <td>502</td>\n",
       "      <td>0</td>\n",
       "      <td>1</td>\n",
       "      <td>42</td>\n",
       "      <td>8</td>\n",
       "      <td>159660.80</td>\n",
       "      <td>3</td>\n",
       "      <td>1</td>\n",
       "      <td>0</td>\n",
       "      <td>113931.57</td>\n",
       "      <td>1</td>\n",
       "    </tr>\n",
       "    <tr>\n",
       "      <th>3</th>\n",
       "      <td>699</td>\n",
       "      <td>0</td>\n",
       "      <td>1</td>\n",
       "      <td>39</td>\n",
       "      <td>1</td>\n",
       "      <td>0.00</td>\n",
       "      <td>2</td>\n",
       "      <td>0</td>\n",
       "      <td>0</td>\n",
       "      <td>93826.63</td>\n",
       "      <td>0</td>\n",
       "    </tr>\n",
       "    <tr>\n",
       "      <th>4</th>\n",
       "      <td>850</td>\n",
       "      <td>1</td>\n",
       "      <td>1</td>\n",
       "      <td>43</td>\n",
       "      <td>2</td>\n",
       "      <td>125510.82</td>\n",
       "      <td>1</td>\n",
       "      <td>1</td>\n",
       "      <td>1</td>\n",
       "      <td>79084.10</td>\n",
       "      <td>0</td>\n",
       "    </tr>\n",
       "  </tbody>\n",
       "</table>\n",
       "</div>"
      ],
      "text/plain": [
       "   CreditScore  Geography  Gender  Age  Tenure    Balance  NumOfProducts  \\\n",
       "0          619          0       1   42       2       0.00              1   \n",
       "1          608          1       1   41       1   83807.86              1   \n",
       "2          502          0       1   42       8  159660.80              3   \n",
       "3          699          0       1   39       1       0.00              2   \n",
       "4          850          1       1   43       2  125510.82              1   \n",
       "\n",
       "   HasCrCard  IsActiveMember  EstimatedSalary  Exited  \n",
       "0          1               1        101348.88       1  \n",
       "1          0               1        112542.58       0  \n",
       "2          1               0        113931.57       1  \n",
       "3          0               0         93826.63       0  \n",
       "4          1               1         79084.10       0  "
      ]
     },
     "execution_count": 10,
     "metadata": {},
     "output_type": "execute_result"
    }
   ],
   "source": [
    "data.head()"
   ]
  },
  {
   "cell_type": "code",
   "execution_count": 11,
   "metadata": {},
   "outputs": [],
   "source": [
    "from sklearn import preprocessing\n",
    "scaler = preprocessing.MinMaxScaler()\n",
    "scaling_column = ['CreditScore', 'Age', 'Tenure', 'Balance', 'EstimatedSalary']\n",
    "data[scaling_column] = scaler.fit_transform(data[scaling_column])"
   ]
  },
  {
   "cell_type": "code",
   "execution_count": 12,
   "metadata": {},
   "outputs": [
    {
     "data": {
      "text/html": [
       "<div>\n",
       "<style scoped>\n",
       "    .dataframe tbody tr th:only-of-type {\n",
       "        vertical-align: middle;\n",
       "    }\n",
       "\n",
       "    .dataframe tbody tr th {\n",
       "        vertical-align: top;\n",
       "    }\n",
       "\n",
       "    .dataframe thead th {\n",
       "        text-align: right;\n",
       "    }\n",
       "</style>\n",
       "<table border=\"1\" class=\"dataframe\">\n",
       "  <thead>\n",
       "    <tr style=\"text-align: right;\">\n",
       "      <th></th>\n",
       "      <th>CreditScore</th>\n",
       "      <th>Geography</th>\n",
       "      <th>Gender</th>\n",
       "      <th>Age</th>\n",
       "      <th>Tenure</th>\n",
       "      <th>Balance</th>\n",
       "      <th>NumOfProducts</th>\n",
       "      <th>HasCrCard</th>\n",
       "      <th>IsActiveMember</th>\n",
       "      <th>EstimatedSalary</th>\n",
       "      <th>Exited</th>\n",
       "    </tr>\n",
       "  </thead>\n",
       "  <tbody>\n",
       "    <tr>\n",
       "      <th>0</th>\n",
       "      <td>0.538</td>\n",
       "      <td>0</td>\n",
       "      <td>1</td>\n",
       "      <td>0.324324</td>\n",
       "      <td>0.2</td>\n",
       "      <td>0.000000</td>\n",
       "      <td>1</td>\n",
       "      <td>1</td>\n",
       "      <td>1</td>\n",
       "      <td>0.506735</td>\n",
       "      <td>1</td>\n",
       "    </tr>\n",
       "    <tr>\n",
       "      <th>1</th>\n",
       "      <td>0.516</td>\n",
       "      <td>1</td>\n",
       "      <td>1</td>\n",
       "      <td>0.310811</td>\n",
       "      <td>0.1</td>\n",
       "      <td>0.334031</td>\n",
       "      <td>1</td>\n",
       "      <td>0</td>\n",
       "      <td>1</td>\n",
       "      <td>0.562709</td>\n",
       "      <td>0</td>\n",
       "    </tr>\n",
       "    <tr>\n",
       "      <th>2</th>\n",
       "      <td>0.304</td>\n",
       "      <td>0</td>\n",
       "      <td>1</td>\n",
       "      <td>0.324324</td>\n",
       "      <td>0.8</td>\n",
       "      <td>0.636357</td>\n",
       "      <td>3</td>\n",
       "      <td>1</td>\n",
       "      <td>0</td>\n",
       "      <td>0.569654</td>\n",
       "      <td>1</td>\n",
       "    </tr>\n",
       "    <tr>\n",
       "      <th>3</th>\n",
       "      <td>0.698</td>\n",
       "      <td>0</td>\n",
       "      <td>1</td>\n",
       "      <td>0.283784</td>\n",
       "      <td>0.1</td>\n",
       "      <td>0.000000</td>\n",
       "      <td>2</td>\n",
       "      <td>0</td>\n",
       "      <td>0</td>\n",
       "      <td>0.469120</td>\n",
       "      <td>0</td>\n",
       "    </tr>\n",
       "    <tr>\n",
       "      <th>4</th>\n",
       "      <td>1.000</td>\n",
       "      <td>1</td>\n",
       "      <td>1</td>\n",
       "      <td>0.337838</td>\n",
       "      <td>0.2</td>\n",
       "      <td>0.500246</td>\n",
       "      <td>1</td>\n",
       "      <td>1</td>\n",
       "      <td>1</td>\n",
       "      <td>0.395400</td>\n",
       "      <td>0</td>\n",
       "    </tr>\n",
       "  </tbody>\n",
       "</table>\n",
       "</div>"
      ],
      "text/plain": [
       "   CreditScore  Geography  Gender       Age  Tenure   Balance  NumOfProducts  \\\n",
       "0        0.538          0       1  0.324324     0.2  0.000000              1   \n",
       "1        0.516          1       1  0.310811     0.1  0.334031              1   \n",
       "2        0.304          0       1  0.324324     0.8  0.636357              3   \n",
       "3        0.698          0       1  0.283784     0.1  0.000000              2   \n",
       "4        1.000          1       1  0.337838     0.2  0.500246              1   \n",
       "\n",
       "   HasCrCard  IsActiveMember  EstimatedSalary  Exited  \n",
       "0          1               1         0.506735       1  \n",
       "1          0               1         0.562709       0  \n",
       "2          1               0         0.569654       1  \n",
       "3          0               0         0.469120       0  \n",
       "4          1               1         0.395400       0  "
      ]
     },
     "execution_count": 12,
     "metadata": {},
     "output_type": "execute_result"
    }
   ],
   "source": [
    "data.head()"
   ]
  },
  {
   "cell_type": "markdown",
   "metadata": {},
   "source": [
    "Allocating the X dataset and y dataset"
   ]
  },
  {
   "cell_type": "code",
   "execution_count": 13,
   "metadata": {},
   "outputs": [],
   "source": [
    "X = data.drop('Exited', axis = 1)\n",
    "y = data['Exited']"
   ]
  },
  {
   "cell_type": "markdown",
   "metadata": {},
   "source": [
    "Splitting the dataset with 80% training model and 20 % testing Model"
   ]
  },
  {
   "cell_type": "code",
   "execution_count": 14,
   "metadata": {},
   "outputs": [],
   "source": [
    "from sklearn.model_selection import train_test_split\n",
    "X_train, X_test, y_train, y_test = train_test_split(X, y, test_size = 0.2, random_state = 43)"
   ]
  },
  {
   "cell_type": "code",
   "execution_count": 15,
   "metadata": {},
   "outputs": [
    {
     "data": {
      "text/plain": [
       "((8000, 10), (2000, 10))"
      ]
     },
     "execution_count": 15,
     "metadata": {},
     "output_type": "execute_result"
    }
   ],
   "source": [
    "X_train.shape, X_test.shape"
   ]
  },
  {
   "cell_type": "code",
   "execution_count": 16,
   "metadata": {},
   "outputs": [],
   "source": [
    "import tensorflow\n",
    "from tensorflow import keras"
   ]
  },
  {
   "cell_type": "markdown",
   "metadata": {},
   "source": [
    "Creating the Artificial Neural Network Model using mini btch gradient Descent"
   ]
  },
  {
   "cell_type": "markdown",
   "metadata": {},
   "source": [
    " I have taken mini batch size as 10 because to get high accuracy evenhough it takes time"
   ]
  },
  {
   "cell_type": "code",
   "execution_count": 17,
   "metadata": {},
   "outputs": [
    {
     "name": "stdout",
     "output_type": "stream",
     "text": [
      "Epoch 1/100\n",
      "800/800 [==============================] - 10s 2ms/step - loss: 0.4957 - accuracy: 0.8022 0s - loss: 0.4961 - accuracy: 0.80\n",
      "Epoch 2/100\n",
      "800/800 [==============================] - 1s 2ms/step - loss: 0.4635 - accuracy: 0.7975\n",
      "Epoch 3/100\n",
      "800/800 [==============================] - 2s 2ms/step - loss: 0.4442 - accuracy: 0.8087\n",
      "Epoch 4/100\n",
      "800/800 [==============================] - 2s 2ms/step - loss: 0.4318 - accuracy: 0.8122\n",
      "Epoch 5/100\n",
      "800/800 [==============================] - 2s 2ms/step - loss: 0.4229 - accuracy: 0.8158\n",
      "Epoch 6/100\n",
      "800/800 [==============================] - 1s 2ms/step - loss: 0.4302 - accuracy: 0.8105\n",
      "Epoch 7/100\n",
      "800/800 [==============================] - 2s 2ms/step - loss: 0.4165 - accuracy: 0.8248\n",
      "Epoch 8/100\n",
      "800/800 [==============================] - 1s 2ms/step - loss: 0.4141 - accuracy: 0.8246\n",
      "Epoch 9/100\n",
      "800/800 [==============================] - 1s 2ms/step - loss: 0.4070 - accuracy: 0.8287\n",
      "Epoch 10/100\n",
      "800/800 [==============================] - 1s 2ms/step - loss: 0.4015 - accuracy: 0.8268\n",
      "Epoch 11/100\n",
      "800/800 [==============================] - 1s 2ms/step - loss: 0.3913 - accuracy: 0.8410\n",
      "Epoch 12/100\n",
      "800/800 [==============================] - 1s 2ms/step - loss: 0.3786 - accuracy: 0.8413\n",
      "Epoch 13/100\n",
      "800/800 [==============================] - 1s 2ms/step - loss: 0.3740 - accuracy: 0.8413\n",
      "Epoch 14/100\n",
      "800/800 [==============================] - 2s 2ms/step - loss: 0.3781 - accuracy: 0.8446\n",
      "Epoch 15/100\n",
      "800/800 [==============================] - 2s 2ms/step - loss: 0.3856 - accuracy: 0.8362\n",
      "Epoch 16/100\n",
      "800/800 [==============================] - 2s 2ms/step - loss: 0.3633 - accuracy: 0.8534: 0s - loss: 0.3626 - accura\n",
      "Epoch 17/100\n",
      "800/800 [==============================] - 2s 2ms/step - loss: 0.3709 - accuracy: 0.8463\n",
      "Epoch 18/100\n",
      "800/800 [==============================] - 2s 2ms/step - loss: 0.3586 - accuracy: 0.8537\n",
      "Epoch 19/100\n",
      "800/800 [==============================] - 1s 2ms/step - loss: 0.3612 - accuracy: 0.8501\n",
      "Epoch 20/100\n",
      "800/800 [==============================] - 1s 2ms/step - loss: 0.3423 - accuracy: 0.8628\n",
      "Epoch 21/100\n",
      "800/800 [==============================] - 1s 2ms/step - loss: 0.3564 - accuracy: 0.8564\n",
      "Epoch 22/100\n",
      "800/800 [==============================] - 2s 2ms/step - loss: 0.3511 - accuracy: 0.8550\n",
      "Epoch 23/100\n",
      "800/800 [==============================] - 2s 2ms/step - loss: 0.3506 - accuracy: 0.8507\n",
      "Epoch 24/100\n",
      "800/800 [==============================] - 2s 2ms/step - loss: 0.3524 - accuracy: 0.8544\n",
      "Epoch 25/100\n",
      "800/800 [==============================] - 2s 2ms/step - loss: 0.3388 - accuracy: 0.8596\n",
      "Epoch 26/100\n",
      "800/800 [==============================] - 2s 2ms/step - loss: 0.3404 - accuracy: 0.8606\n",
      "Epoch 27/100\n",
      "800/800 [==============================] - 2s 2ms/step - loss: 0.3433 - accuracy: 0.8546: 0s - loss: 0.341 - ETA: 0s - loss: 0.3429 - \n",
      "Epoch 28/100\n",
      "800/800 [==============================] - 2s 2ms/step - loss: 0.3447 - accuracy: 0.8563:  - ETA: 0s - loss: 0.3430 - accu - ETA: 0s - loss: 0.3442 - accura - ETA: 0s - loss: 0.3446 - accuracy\n",
      "Epoch 29/100\n",
      "800/800 [==============================] - 2s 2ms/step - loss: 0.3293 - accuracy: 0.8628\n",
      "Epoch 30/100\n",
      "800/800 [==============================] - 2s 3ms/step - loss: 0.3306 - accuracy: 0.8617\n",
      "Epoch 31/100\n",
      "800/800 [==============================] - 2s 2ms/step - loss: 0.3485 - accuracy: 0.8543\n",
      "Epoch 32/100\n",
      "800/800 [==============================] - 2s 2ms/step - loss: 0.3337 - accuracy: 0.8650\n",
      "Epoch 33/100\n",
      "800/800 [==============================] - 2s 2ms/step - loss: 0.3323 - accuracy: 0.8629\n",
      "Epoch 34/100\n",
      "800/800 [==============================] - 2s 3ms/step - loss: 0.3303 - accuracy: 0.8619\n",
      "Epoch 35/100\n",
      "800/800 [==============================] - 3s 3ms/step - loss: 0.3495 - accuracy: 0.8546\n",
      "Epoch 36/100\n",
      "800/800 [==============================] - 2s 3ms/step - loss: 0.3432 - accuracy: 0.8602\n",
      "Epoch 37/100\n",
      "800/800 [==============================] - 2s 3ms/step - loss: 0.3427 - accuracy: 0.8593\n",
      "Epoch 38/100\n",
      "800/800 [==============================] - 2s 3ms/step - loss: 0.3398 - accuracy: 0.8604\n",
      "Epoch 39/100\n",
      "800/800 [==============================] - 2s 2ms/step - loss: 0.3372 - accuracy: 0.8597\n",
      "Epoch 40/100\n",
      "800/800 [==============================] - 2s 3ms/step - loss: 0.3415 - accuracy: 0.8548\n",
      "Epoch 41/100\n",
      "800/800 [==============================] - 2s 2ms/step - loss: 0.3305 - accuracy: 0.8682: 1s - loss: 0.3024 - \n",
      "Epoch 42/100\n",
      "800/800 [==============================] - 2s 2ms/step - loss: 0.3419 - accuracy: 0.8572\n",
      "Epoch 43/100\n",
      "800/800 [==============================] - 1s 2ms/step - loss: 0.3378 - accuracy: 0.8591\n",
      "Epoch 44/100\n",
      "800/800 [==============================] - 1s 2ms/step - loss: 0.3431 - accuracy: 0.8581\n",
      "Epoch 45/100\n",
      "800/800 [==============================] - 1s 2ms/step - loss: 0.3375 - accuracy: 0.8593\n",
      "Epoch 46/100\n",
      "800/800 [==============================] - 1s 2ms/step - loss: 0.3287 - accuracy: 0.8645\n",
      "Epoch 47/100\n",
      "800/800 [==============================] - 2s 2ms/step - loss: 0.3359 - accuracy: 0.8587\n",
      "Epoch 48/100\n",
      "800/800 [==============================] - 1s 2ms/step - loss: 0.3331 - accuracy: 0.8607\n",
      "Epoch 49/100\n",
      "800/800 [==============================] - 1s 2ms/step - loss: 0.3247 - accuracy: 0.8675: 0s - loss: 0.320\n",
      "Epoch 50/100\n",
      "800/800 [==============================] - 2s 2ms/step - loss: 0.3270 - accuracy: 0.8625: 0s - los\n",
      "Epoch 51/100\n",
      "800/800 [==============================] - 2s 3ms/step - loss: 0.3311 - accuracy: 0.8637\n",
      "Epoch 52/100\n",
      "800/800 [==============================] - 2s 3ms/step - loss: 0.3276 - accuracy: 0.8621\n",
      "Epoch 53/100\n",
      "800/800 [==============================] - 1s 2ms/step - loss: 0.3390 - accuracy: 0.8604\n",
      "Epoch 54/100\n",
      "800/800 [==============================] - 2s 2ms/step - loss: 0.3293 - accuracy: 0.8659\n",
      "Epoch 55/100\n",
      "800/800 [==============================] - 2s 2ms/step - loss: 0.3391 - accuracy: 0.8588\n",
      "Epoch 56/100\n",
      "800/800 [==============================] - 2s 2ms/step - loss: 0.3331 - accuracy: 0.8617\n",
      "Epoch 57/100\n",
      "800/800 [==============================] - 1s 2ms/step - loss: 0.3330 - accuracy: 0.8609\n",
      "Epoch 58/100\n",
      "800/800 [==============================] - 2s 2ms/step - loss: 0.3305 - accuracy: 0.8659\n",
      "Epoch 59/100\n",
      "800/800 [==============================] - 2s 2ms/step - loss: 0.3364 - accuracy: 0.8655\n",
      "Epoch 60/100\n",
      "800/800 [==============================] - 2s 3ms/step - loss: 0.3338 - accuracy: 0.8617\n",
      "Epoch 61/100\n",
      "800/800 [==============================] - 2s 2ms/step - loss: 0.3205 - accuracy: 0.8667\n",
      "Epoch 62/100\n",
      "800/800 [==============================] - 1s 2ms/step - loss: 0.3292 - accuracy: 0.8658\n",
      "Epoch 63/100\n",
      "800/800 [==============================] - 1s 1ms/step - loss: 0.3244 - accuracy: 0.8662\n",
      "Epoch 64/100\n",
      "800/800 [==============================] - 1s 1ms/step - loss: 0.3295 - accuracy: 0.8608\n",
      "Epoch 65/100\n",
      "800/800 [==============================] - 1s 1ms/step - loss: 0.3286 - accuracy: 0.8588\n",
      "Epoch 66/100\n",
      "800/800 [==============================] - 1s 2ms/step - loss: 0.3210 - accuracy: 0.8684\n",
      "Epoch 67/100\n",
      "800/800 [==============================] - 1s 2ms/step - loss: 0.3420 - accuracy: 0.8565\n",
      "Epoch 68/100\n",
      "800/800 [==============================] - 1s 2ms/step - loss: 0.3325 - accuracy: 0.8671\n",
      "Epoch 69/100\n",
      "800/800 [==============================] - 1s 1ms/step - loss: 0.3368 - accuracy: 0.8633: 0s - loss: 0.3375 - accuracy: \n",
      "Epoch 70/100\n",
      "800/800 [==============================] - 1s 2ms/step - loss: 0.3241 - accuracy: 0.8663: 0s - loss: 0.3211  - ETA: 0s - loss: 0.3237 - accuracy: 0.\n",
      "Epoch 71/100\n",
      "800/800 [==============================] - 1s 2ms/step - loss: 0.3229 - accuracy: 0.8657\n",
      "Epoch 72/100\n",
      "800/800 [==============================] - 2s 2ms/step - loss: 0.3413 - accuracy: 0.8558\n",
      "Epoch 73/100\n",
      "800/800 [==============================] - 1s 2ms/step - loss: 0.3320 - accuracy: 0.8628\n",
      "Epoch 74/100\n",
      "800/800 [==============================] - 1s 2ms/step - loss: 0.3214 - accuracy: 0.8712\n",
      "Epoch 75/100\n",
      "800/800 [==============================] - 1s 2ms/step - loss: 0.3292 - accuracy: 0.8629\n",
      "Epoch 76/100\n",
      "800/800 [==============================] - 1s 2ms/step - loss: 0.3226 - accuracy: 0.8689\n",
      "Epoch 77/100\n",
      "800/800 [==============================] - 1s 2ms/step - loss: 0.3278 - accuracy: 0.8659\n",
      "Epoch 78/100\n",
      "800/800 [==============================] - 2s 2ms/step - loss: 0.3183 - accuracy: 0.8677\n",
      "Epoch 79/100\n",
      "800/800 [==============================] - 2s 2ms/step - loss: 0.3251 - accuracy: 0.8672\n",
      "Epoch 80/100\n",
      "800/800 [==============================] - 1s 2ms/step - loss: 0.3133 - accuracy: 0.8706\n",
      "Epoch 81/100\n",
      "800/800 [==============================] - 1s 2ms/step - loss: 0.3262 - accuracy: 0.8665\n",
      "Epoch 82/100\n",
      "800/800 [==============================] - 2s 2ms/step - loss: 0.3166 - accuracy: 0.8672\n",
      "Epoch 83/100\n",
      "800/800 [==============================] - 2s 2ms/step - loss: 0.3216 - accuracy: 0.8679\n",
      "Epoch 84/100\n",
      "800/800 [==============================] - 1s 2ms/step - loss: 0.3242 - accuracy: 0.8671\n",
      "Epoch 85/100\n",
      "800/800 [==============================] - 1s 2ms/step - loss: 0.3333 - accuracy: 0.8595\n",
      "Epoch 86/100\n",
      "800/800 [==============================] - 1s 2ms/step - loss: 0.3133 - accuracy: 0.8725: 0s - loss:\n",
      "Epoch 87/100\n",
      "800/800 [==============================] - 1s 2ms/step - loss: 0.3290 - accuracy: 0.8673: 0s - loss:\n",
      "Epoch 88/100\n",
      "800/800 [==============================] - 1s 2ms/step - loss: 0.3289 - accuracy: 0.8636\n",
      "Epoch 89/100\n",
      "800/800 [==============================] - 1s 2ms/step - loss: 0.3218 - accuracy: 0.8660\n",
      "Epoch 90/100\n",
      "800/800 [==============================] - 1s 2ms/step - loss: 0.3305 - accuracy: 0.8585\n",
      "Epoch 91/100\n",
      "800/800 [==============================] - 1s 2ms/step - loss: 0.3234 - accuracy: 0.8660\n",
      "Epoch 92/100\n",
      "800/800 [==============================] - 1s 2ms/step - loss: 0.3185 - accuracy: 0.8737\n",
      "Epoch 93/100\n",
      "800/800 [==============================] - 1s 2ms/step - loss: 0.3232 - accuracy: 0.8668\n",
      "Epoch 94/100\n",
      "800/800 [==============================] - 2s 2ms/step - loss: 0.3259 - accuracy: 0.8667\n",
      "Epoch 95/100\n",
      "800/800 [==============================] - 2s 2ms/step - loss: 0.3279 - accuracy: 0.8645\n",
      "Epoch 96/100\n",
      "800/800 [==============================] - 2s 2ms/step - loss: 0.3242 - accuracy: 0.8697: 0s - loss: 0.3229 - \n",
      "Epoch 97/100\n",
      "800/800 [==============================] - 1s 2ms/step - loss: 0.3300 - accuracy: 0.8605\n",
      "Epoch 98/100\n",
      "800/800 [==============================] - 1s 2ms/step - loss: 0.3206 - accuracy: 0.8697\n",
      "Epoch 99/100\n",
      "800/800 [==============================] - 2s 2ms/step - loss: 0.3267 - accuracy: 0.8635\n",
      "Epoch 100/100\n",
      "800/800 [==============================] - 1s 2ms/step - loss: 0.3164 - accuracy: 0.8732\n"
     ]
    },
    {
     "data": {
      "text/plain": [
       "<tensorflow.python.keras.callbacks.History at 0x21e86193888>"
      ]
     },
     "execution_count": 17,
     "metadata": {},
     "output_type": "execute_result"
    }
   ],
   "source": [
    "model = keras.Sequential([\n",
    "    keras.layers.Dense(15, input_shape = (10, ), activation = 'relu'),\n",
    "    keras.layers.Dense(10, activation = 'relu'),\n",
    "    keras.layers.Dense(1,activation='sigmoid')\n",
    "])\n",
    "\n",
    "model.compile(\n",
    "    optimizer = 'adam',\n",
    "    loss = 'binary_crossentropy', \n",
    "    metrics = ['accuracy']\n",
    ")\n",
    "\n",
    "model.fit(X_train, y_train, epochs=100, batch_size = 10)"
   ]
  },
  {
   "cell_type": "code",
   "execution_count": 18,
   "metadata": {},
   "outputs": [
    {
     "name": "stdout",
     "output_type": "stream",
     "text": [
      "63/63 [==============================] - 1s 2ms/step - loss: 0.3541 - accuracy: 0.8510\n"
     ]
    },
    {
     "data": {
      "text/plain": [
       "[0.3541034162044525, 0.8510000109672546]"
      ]
     },
     "execution_count": 18,
     "metadata": {},
     "output_type": "execute_result"
    }
   ],
   "source": [
    "model.evaluate(X_test, y_test)"
   ]
  },
  {
   "cell_type": "code",
   "execution_count": 19,
   "metadata": {},
   "outputs": [
    {
     "data": {
      "text/plain": [
       "array([[0.21454719],\n",
       "       [0.3026249 ],\n",
       "       [0.29456455],\n",
       "       [0.21224856],\n",
       "       [0.45287624]], dtype=float32)"
      ]
     },
     "execution_count": 19,
     "metadata": {},
     "output_type": "execute_result"
    }
   ],
   "source": [
    "y_predicted = model.predict(X_test)\n",
    "y_predicted[:5]"
   ]
  },
  {
   "cell_type": "code",
   "execution_count": 20,
   "metadata": {},
   "outputs": [
    {
     "data": {
      "text/plain": [
       "9415    0\n",
       "6377    1\n",
       "8019    0\n",
       "7754    1\n",
       "4961    0\n",
       "Name: Exited, dtype: int64"
      ]
     },
     "execution_count": 20,
     "metadata": {},
     "output_type": "execute_result"
    }
   ],
   "source": [
    "y_test[:5]"
   ]
  },
  {
   "cell_type": "code",
   "execution_count": 21,
   "metadata": {},
   "outputs": [
    {
     "data": {
      "text/plain": [
       "array([[0.21454719],\n",
       "       [0.3026249 ],\n",
       "       [0.29456455],\n",
       "       ...,\n",
       "       [0.00889936],\n",
       "       [0.5594953 ],\n",
       "       [0.17289022]], dtype=float32)"
      ]
     },
     "execution_count": 21,
     "metadata": {},
     "output_type": "execute_result"
    }
   ],
   "source": [
    "y_predicted = np.asanyarray(y_predicted)\n",
    "y_predicted"
   ]
  },
  {
   "cell_type": "code",
   "execution_count": 22,
   "metadata": {},
   "outputs": [
    {
     "data": {
      "text/plain": [
       "2000"
      ]
     },
     "execution_count": 22,
     "metadata": {},
     "output_type": "execute_result"
    }
   ],
   "source": [
    "len(y_predicted)"
   ]
  },
  {
   "cell_type": "code",
   "execution_count": 23,
   "metadata": {},
   "outputs": [
    {
     "data": {
      "text/plain": [
       "array([0.3026249], dtype=float32)"
      ]
     },
     "execution_count": 23,
     "metadata": {},
     "output_type": "execute_result"
    }
   ],
   "source": [
    "y_predicted[1]"
   ]
  },
  {
   "cell_type": "code",
   "execution_count": 24,
   "metadata": {},
   "outputs": [],
   "source": [
    "y_predict = []\n",
    "for i in range(len(y_predicted)):\n",
    "    if y_predicted[i] > 0.5:\n",
    "        y_predict.append(1)\n",
    "    else:\n",
    "        y_predict.append(0)\n"
   ]
  },
  {
   "cell_type": "code",
   "execution_count": 25,
   "metadata": {},
   "outputs": [
    {
     "data": {
      "text/plain": [
       "[0, 0, 0, 0, 0]"
      ]
     },
     "execution_count": 25,
     "metadata": {},
     "output_type": "execute_result"
    }
   ],
   "source": [
    "y_predict[:5]"
   ]
  },
  {
   "cell_type": "markdown",
   "metadata": {},
   "source": [
    "Confusion matrix"
   ]
  },
  {
   "cell_type": "code",
   "execution_count": 26,
   "metadata": {},
   "outputs": [
    {
     "data": {
      "text/plain": [
       "array([[1501,   87],\n",
       "       [ 211,  201]], dtype=int64)"
      ]
     },
     "execution_count": 26,
     "metadata": {},
     "output_type": "execute_result"
    }
   ],
   "source": [
    "from sklearn.metrics import confusion_matrix\n",
    "confusion_matrix(y_test, y_predict)"
   ]
  },
  {
   "cell_type": "markdown",
   "metadata": {},
   "source": [
    "Classification Report"
   ]
  },
  {
   "cell_type": "code",
   "execution_count": 27,
   "metadata": {},
   "outputs": [
    {
     "name": "stdout",
     "output_type": "stream",
     "text": [
      "              precision    recall  f1-score   support\n",
      "\n",
      "           0       0.88      0.95      0.91      1588\n",
      "           1       0.70      0.49      0.57       412\n",
      "\n",
      "    accuracy                           0.85      2000\n",
      "   macro avg       0.79      0.72      0.74      2000\n",
      "weighted avg       0.84      0.85      0.84      2000\n",
      "\n"
     ]
    }
   ],
   "source": [
    "from sklearn.metrics import classification_report\n",
    "print(classification_report(y_test, y_predict))"
   ]
  },
  {
   "cell_type": "markdown",
   "metadata": {},
   "source": [
    "# Handling imbalanced data using Undersampling"
   ]
  },
  {
   "cell_type": "code",
   "execution_count": 28,
   "metadata": {},
   "outputs": [
    {
     "data": {
      "text/plain": [
       "0    7963\n",
       "1    2037\n",
       "Name: Exited, dtype: int64"
      ]
     },
     "execution_count": 28,
     "metadata": {},
     "output_type": "execute_result"
    }
   ],
   "source": [
    "data['Exited'].value_counts()"
   ]
  },
  {
   "cell_type": "code",
   "execution_count": 29,
   "metadata": {},
   "outputs": [
    {
     "name": "stdout",
     "output_type": "stream",
     "text": [
      "7963 2037\n"
     ]
    }
   ],
   "source": [
    "class_0_counts, class_1_counts = data['Exited'].value_counts()\n",
    "print(class_0_counts, class_1_counts)"
   ]
  },
  {
   "cell_type": "code",
   "execution_count": 30,
   "metadata": {},
   "outputs": [],
   "source": [
    "class_0_data = data[data['Exited'] == 0] #class 0 samples\n",
    "class_1_data = data[data['Exited'] == 1] #class 1 samples"
   ]
  },
  {
   "cell_type": "code",
   "execution_count": 31,
   "metadata": {},
   "outputs": [
    {
     "data": {
      "text/plain": [
       "((7963, 11), (2037, 11))"
      ]
     },
     "execution_count": 31,
     "metadata": {},
     "output_type": "execute_result"
    }
   ],
   "source": [
    "class_0_data.shape, class_1_data.shape"
   ]
  },
  {
   "cell_type": "markdown",
   "metadata": {},
   "source": [
    "Undersampling the 0 class dataset"
   ]
  },
  {
   "cell_type": "code",
   "execution_count": 32,
   "metadata": {},
   "outputs": [
    {
     "data": {
      "text/plain": [
       "(2037, 11)"
      ]
     },
     "execution_count": 32,
     "metadata": {},
     "output_type": "execute_result"
    }
   ],
   "source": [
    "under_sampled_class_0 = class_0_data.sample(class_1_counts)\n",
    "under_sampled_class_0.shape"
   ]
  },
  {
   "cell_type": "code",
   "execution_count": 33,
   "metadata": {},
   "outputs": [
    {
     "name": "stdout",
     "output_type": "stream",
     "text": [
      "(2037, 11) (2037, 11)\n"
     ]
    }
   ],
   "source": [
    "print(under_sampled_class_0.shape, class_1_data.shape)\n",
    "# both the dataset has same shape"
   ]
  },
  {
   "cell_type": "markdown",
   "metadata": {},
   "source": [
    "Concating both the datasets"
   ]
  },
  {
   "cell_type": "code",
   "execution_count": 34,
   "metadata": {},
   "outputs": [
    {
     "data": {
      "text/plain": [
       "(4074, 11)"
      ]
     },
     "execution_count": 34,
     "metadata": {},
     "output_type": "execute_result"
    }
   ],
   "source": [
    "under_sample_dataset = pd.concat([under_sampled_class_0, class_1_data], axis = 0)\n",
    "under_sample_dataset.shape"
   ]
  },
  {
   "cell_type": "code",
   "execution_count": 35,
   "metadata": {},
   "outputs": [],
   "source": [
    "X = under_sample_dataset.drop('Exited', axis = 1)\n",
    "y = under_sample_dataset['Exited']"
   ]
  },
  {
   "cell_type": "markdown",
   "metadata": {},
   "source": [
    "Splitting and training the model using ANN"
   ]
  },
  {
   "cell_type": "code",
   "execution_count": 36,
   "metadata": {},
   "outputs": [
    {
     "name": "stdout",
     "output_type": "stream",
     "text": [
      "Epoch 1/100\n",
      "326/326 [==============================] - 4s 2ms/step - loss: 0.6825 - accuracy: 0.5514\n",
      "Epoch 2/100\n",
      "326/326 [==============================] - 1s 2ms/step - loss: 0.6417 - accuracy: 0.6423\n",
      "Epoch 3/100\n",
      "326/326 [==============================] - 1s 2ms/step - loss: 0.6302 - accuracy: 0.6410\n",
      "Epoch 4/100\n",
      "326/326 [==============================] - 1s 2ms/step - loss: 0.6060 - accuracy: 0.6813\n",
      "Epoch 5/100\n",
      "326/326 [==============================] - 1s 2ms/step - loss: 0.5920 - accuracy: 0.6881\n",
      "Epoch 6/100\n",
      "326/326 [==============================] - 1s 2ms/step - loss: 0.5737 - accuracy: 0.7071\n",
      "Epoch 7/100\n",
      "326/326 [==============================] - 1s 2ms/step - loss: 0.5686 - accuracy: 0.7046\n",
      "Epoch 8/100\n",
      "326/326 [==============================] - 1s 2ms/step - loss: 0.5540 - accuracy: 0.7246\n",
      "Epoch 9/100\n",
      "326/326 [==============================] - 1s 2ms/step - loss: 0.5591 - accuracy: 0.7109\n",
      "Epoch 10/100\n",
      "326/326 [==============================] - 1s 2ms/step - loss: 0.5360 - accuracy: 0.7363\n",
      "Epoch 11/100\n",
      "326/326 [==============================] - 1s 2ms/step - loss: 0.5398 - accuracy: 0.7310\n",
      "Epoch 12/100\n",
      "326/326 [==============================] - 1s 2ms/step - loss: 0.5248 - accuracy: 0.7403\n",
      "Epoch 13/100\n",
      "326/326 [==============================] - 1s 2ms/step - loss: 0.5251 - accuracy: 0.7403\n",
      "Epoch 14/100\n",
      "326/326 [==============================] - 1s 2ms/step - loss: 0.5139 - accuracy: 0.7617\n",
      "Epoch 15/100\n",
      "326/326 [==============================] - 1s 2ms/step - loss: 0.4807 - accuracy: 0.7773\n",
      "Epoch 16/100\n",
      "326/326 [==============================] - 1s 3ms/step - loss: 0.4945 - accuracy: 0.7600\n",
      "Epoch 17/100\n",
      "326/326 [==============================] - 1s 3ms/step - loss: 0.5037 - accuracy: 0.7602\n",
      "Epoch 18/100\n",
      "326/326 [==============================] - 1s 2ms/step - loss: 0.5102 - accuracy: 0.7448\n",
      "Epoch 19/100\n",
      "326/326 [==============================] - 1s 2ms/step - loss: 0.4944 - accuracy: 0.7570\n",
      "Epoch 20/100\n",
      "326/326 [==============================] - 1s 2ms/step - loss: 0.4983 - accuracy: 0.7488: 0s - loss: 0.4985 - accuracy: \n",
      "Epoch 21/100\n",
      "326/326 [==============================] - 1s 2ms/step - loss: 0.4825 - accuracy: 0.7630\n",
      "Epoch 22/100\n",
      "326/326 [==============================] - 1s 2ms/step - loss: 0.5014 - accuracy: 0.7524\n",
      "Epoch 23/100\n",
      "326/326 [==============================] - 1s 2ms/step - loss: 0.4847 - accuracy: 0.7635: 0s - loss: 0.4705 \n",
      "Epoch 24/100\n",
      "326/326 [==============================] - 1s 2ms/step - loss: 0.4808 - accuracy: 0.7661\n",
      "Epoch 25/100\n",
      "326/326 [==============================] - 1s 2ms/step - loss: 0.4911 - accuracy: 0.7569\n",
      "Epoch 26/100\n",
      "326/326 [==============================] - 1s 2ms/step - loss: 0.4945 - accuracy: 0.7595\n",
      "Epoch 27/100\n",
      "326/326 [==============================] - 1s 2ms/step - loss: 0.4936 - accuracy: 0.7653\n",
      "Epoch 28/100\n",
      "326/326 [==============================] - 1s 2ms/step - loss: 0.4905 - accuracy: 0.7665\n",
      "Epoch 29/100\n",
      "326/326 [==============================] - 1s 2ms/step - loss: 0.4820 - accuracy: 0.7671\n",
      "Epoch 30/100\n",
      "326/326 [==============================] - 1s 2ms/step - loss: 0.4774 - accuracy: 0.7642\n",
      "Epoch 31/100\n",
      "326/326 [==============================] - 1s 2ms/step - loss: 0.4943 - accuracy: 0.7485\n",
      "Epoch 32/100\n",
      "326/326 [==============================] - 0s 2ms/step - loss: 0.4760 - accuracy: 0.7713\n",
      "Epoch 33/100\n",
      "326/326 [==============================] - 1s 2ms/step - loss: 0.4678 - accuracy: 0.7707\n",
      "Epoch 34/100\n",
      "326/326 [==============================] - 1s 2ms/step - loss: 0.4742 - accuracy: 0.7704\n",
      "Epoch 35/100\n",
      "326/326 [==============================] - 1s 2ms/step - loss: 0.4936 - accuracy: 0.7657\n",
      "Epoch 36/100\n",
      "326/326 [==============================] - 1s 2ms/step - loss: 0.4668 - accuracy: 0.7815\n",
      "Epoch 37/100\n",
      "326/326 [==============================] - 1s 2ms/step - loss: 0.4694 - accuracy: 0.7781: 0s - loss: 0.4685 - accuracy: \n",
      "Epoch 38/100\n",
      "326/326 [==============================] - 1s 2ms/step - loss: 0.4823 - accuracy: 0.7722\n",
      "Epoch 39/100\n",
      "326/326 [==============================] - 1s 2ms/step - loss: 0.4801 - accuracy: 0.7649\n",
      "Epoch 40/100\n",
      "326/326 [==============================] - 1s 2ms/step - loss: 0.4849 - accuracy: 0.7589\n",
      "Epoch 41/100\n",
      "326/326 [==============================] - 1s 2ms/step - loss: 0.4732 - accuracy: 0.7792\n",
      "Epoch 42/100\n",
      "326/326 [==============================] - 1s 2ms/step - loss: 0.4721 - accuracy: 0.7705\n",
      "Epoch 43/100\n",
      "326/326 [==============================] - 1s 2ms/step - loss: 0.4697 - accuracy: 0.7741\n",
      "Epoch 44/100\n",
      "326/326 [==============================] - 1s 2ms/step - loss: 0.4623 - accuracy: 0.7890\n",
      "Epoch 45/100\n",
      "326/326 [==============================] - 1s 2ms/step - loss: 0.4624 - accuracy: 0.7738: 0s - loss: 0.4612 - accuracy: 0.\n",
      "Epoch 46/100\n",
      "326/326 [==============================] - 1s 2ms/step - loss: 0.4705 - accuracy: 0.7699\n",
      "Epoch 47/100\n",
      "326/326 [==============================] - 1s 3ms/step - loss: 0.4519 - accuracy: 0.7876: 0s - loss: 0.4505 - accuracy: 0.\n",
      "Epoch 48/100\n",
      "326/326 [==============================] - 1s 3ms/step - loss: 0.4655 - accuracy: 0.7770\n",
      "Epoch 49/100\n",
      "326/326 [==============================] - 1s 3ms/step - loss: 0.4607 - accuracy: 0.7797\n",
      "Epoch 50/100\n",
      "326/326 [==============================] - 1s 4ms/step - loss: 0.4636 - accuracy: 0.7779\n",
      "Epoch 51/100\n",
      "326/326 [==============================] - 1s 3ms/step - loss: 0.4707 - accuracy: 0.7641\n",
      "Epoch 52/100\n",
      "326/326 [==============================] - 1s 2ms/step - loss: 0.4715 - accuracy: 0.7715\n",
      "Epoch 53/100\n",
      "326/326 [==============================] - 1s 2ms/step - loss: 0.4495 - accuracy: 0.7805\n",
      "Epoch 54/100\n",
      "326/326 [==============================] - 1s 2ms/step - loss: 0.4759 - accuracy: 0.7766\n",
      "Epoch 55/100\n",
      "326/326 [==============================] - 1s 2ms/step - loss: 0.4702 - accuracy: 0.7741\n",
      "Epoch 56/100\n",
      "326/326 [==============================] - 1s 2ms/step - loss: 0.4588 - accuracy: 0.7927\n",
      "Epoch 57/100\n",
      "326/326 [==============================] - 1s 2ms/step - loss: 0.4706 - accuracy: 0.7755\n",
      "Epoch 58/100\n",
      "326/326 [==============================] - 1s 2ms/step - loss: 0.4534 - accuracy: 0.7831\n",
      "Epoch 59/100\n",
      "326/326 [==============================] - 1s 2ms/step - loss: 0.4627 - accuracy: 0.7825\n",
      "Epoch 60/100\n",
      "326/326 [==============================] - 1s 3ms/step - loss: 0.4541 - accuracy: 0.7787\n",
      "Epoch 61/100\n",
      "326/326 [==============================] - ETA: 0s - loss: 0.4656 - accuracy: 0.78 - 1s 3ms/step - loss: 0.4652 - accuracy: 0.7805\n",
      "Epoch 62/100\n",
      "326/326 [==============================] - 1s 3ms/step - loss: 0.4805 - accuracy: 0.7750: 0s - loss: 0.4813 - accuracy: 0.77\n",
      "Epoch 63/100\n",
      "326/326 [==============================] - 1s 3ms/step - loss: 0.4573 - accuracy: 0.7802\n",
      "Epoch 64/100\n",
      "326/326 [==============================] - 1s 3ms/step - loss: 0.4553 - accuracy: 0.7845: 0s - loss:\n",
      "Epoch 65/100\n",
      "326/326 [==============================] - 1s 3ms/step - loss: 0.4648 - accuracy: 0.7718\n",
      "Epoch 66/100\n",
      "326/326 [==============================] - 1s 3ms/step - loss: 0.4396 - accuracy: 0.7967\n",
      "Epoch 67/100\n",
      "326/326 [==============================] - 1s 3ms/step - loss: 0.4461 - accuracy: 0.7930: 0s -\n",
      "Epoch 68/100\n",
      "326/326 [==============================] - 1s 3ms/step - loss: 0.4523 - accuracy: 0.7818\n",
      "Epoch 69/100\n",
      "326/326 [==============================] - 1s 3ms/step - loss: 0.4491 - accuracy: 0.7821\n",
      "Epoch 70/100\n",
      "326/326 [==============================] - 1s 3ms/step - loss: 0.4500 - accuracy: 0.7922\n",
      "Epoch 71/100\n",
      "326/326 [==============================] - 1s 2ms/step - loss: 0.4480 - accuracy: 0.7898\n",
      "Epoch 72/100\n",
      "326/326 [==============================] - 1s 2ms/step - loss: 0.4543 - accuracy: 0.7833\n",
      "Epoch 73/100\n",
      "326/326 [==============================] - 1s 2ms/step - loss: 0.4754 - accuracy: 0.7698: 0s - loss: 0.4909 - \n",
      "Epoch 74/100\n",
      "326/326 [==============================] - 1s 2ms/step - loss: 0.4586 - accuracy: 0.7897\n",
      "Epoch 75/100\n",
      "326/326 [==============================] - 1s 3ms/step - loss: 0.4564 - accuracy: 0.7783\n",
      "Epoch 76/100\n",
      "326/326 [==============================] - 1s 3ms/step - loss: 0.4471 - accuracy: 0.7872\n",
      "Epoch 77/100\n",
      "326/326 [==============================] - 1s 2ms/step - loss: 0.4522 - accuracy: 0.7853: 0s - loss: 0\n",
      "Epoch 78/100\n",
      "326/326 [==============================] - 1s 2ms/step - loss: 0.4501 - accuracy: 0.7812\n",
      "Epoch 79/100\n",
      "326/326 [==============================] - 1s 3ms/step - loss: 0.4545 - accuracy: 0.7887\n",
      "Epoch 80/100\n",
      "326/326 [==============================] - 1s 4ms/step - loss: 0.4627 - accuracy: 0.7761\n",
      "Epoch 81/100\n",
      "326/326 [==============================] - 1s 3ms/step - loss: 0.4647 - accuracy: 0.7748\n",
      "Epoch 82/100\n",
      "326/326 [==============================] - 1s 3ms/step - loss: 0.4533 - accuracy: 0.7876\n",
      "Epoch 83/100\n",
      "326/326 [==============================] - 1s 3ms/step - loss: 0.4482 - accuracy: 0.7857\n",
      "Epoch 84/100\n",
      "326/326 [==============================] - 1s 3ms/step - loss: 0.4573 - accuracy: 0.7766\n",
      "Epoch 85/100\n",
      "326/326 [==============================] - 1s 2ms/step - loss: 0.4431 - accuracy: 0.7888: 0s - loss: 0.442\n",
      "Epoch 86/100\n",
      "326/326 [==============================] - 1s 2ms/step - loss: 0.4552 - accuracy: 0.7794\n",
      "Epoch 87/100\n",
      "326/326 [==============================] - 1s 2ms/step - loss: 0.4395 - accuracy: 0.7941: 0s - loss: 0.4372 - accuracy: \n",
      "Epoch 88/100\n",
      "326/326 [==============================] - 1s 2ms/step - loss: 0.4458 - accuracy: 0.7897\n",
      "Epoch 89/100\n",
      "326/326 [==============================] - 1s 2ms/step - loss: 0.4626 - accuracy: 0.7776\n",
      "Epoch 90/100\n",
      "326/326 [==============================] - 1s 2ms/step - loss: 0.4516 - accuracy: 0.7851\n",
      "Epoch 91/100\n",
      "326/326 [==============================] - 1s 2ms/step - loss: 0.4475 - accuracy: 0.7932\n",
      "Epoch 92/100\n",
      "326/326 [==============================] - 1s 3ms/step - loss: 0.4497 - accuracy: 0.7800\n",
      "Epoch 93/100\n",
      "326/326 [==============================] - 1s 2ms/step - loss: 0.4438 - accuracy: 0.7759\n",
      "Epoch 94/100\n",
      "326/326 [==============================] - 1s 2ms/step - loss: 0.4545 - accuracy: 0.7742\n",
      "Epoch 95/100\n",
      "326/326 [==============================] - 1s 2ms/step - loss: 0.4461 - accuracy: 0.7765\n",
      "Epoch 96/100\n",
      "326/326 [==============================] - 1s 2ms/step - loss: 0.4530 - accuracy: 0.7840\n",
      "Epoch 97/100\n",
      "326/326 [==============================] - 1s 3ms/step - loss: 0.4432 - accuracy: 0.7850\n",
      "Epoch 98/100\n",
      "326/326 [==============================] - 1s 2ms/step - loss: 0.4513 - accuracy: 0.7716\n",
      "Epoch 99/100\n",
      "326/326 [==============================] - 1s 2ms/step - loss: 0.4629 - accuracy: 0.7655\n",
      "Epoch 100/100\n",
      "326/326 [==============================] - 1s 2ms/step - loss: 0.4298 - accuracy: 0.7956\n"
     ]
    },
    {
     "data": {
      "text/plain": [
       "<tensorflow.python.keras.callbacks.History at 0x21e87812708>"
      ]
     },
     "execution_count": 36,
     "metadata": {},
     "output_type": "execute_result"
    }
   ],
   "source": [
    "X_train, X_test, y_train, y_test = train_test_split(X, y, test_size = 0.2, random_state = 43)\n",
    "\n",
    "model = keras.Sequential([\n",
    "    keras.layers.Dense(15, input_shape = (10, ), activation = 'relu'),\n",
    "    keras.layers.Dense(10, activation = 'relu'),\n",
    "    keras.layers.Dense(1,activation='sigmoid')\n",
    "])\n",
    "\n",
    "model.compile(\n",
    "    optimizer = 'adam',\n",
    "    loss = 'binary_crossentropy', \n",
    "    metrics = ['accuracy']\n",
    ")\n",
    "\n",
    "model.fit(X_train, y_train, epochs=100, batch_size = 10)"
   ]
  },
  {
   "cell_type": "markdown",
   "metadata": {},
   "source": [
    "Evaluating the Model"
   ]
  },
  {
   "cell_type": "code",
   "execution_count": 37,
   "metadata": {},
   "outputs": [
    {
     "name": "stdout",
     "output_type": "stream",
     "text": [
      "26/26 [==============================] - 0s 2ms/step - loss: 0.4646 - accuracy: 0.7706\n"
     ]
    },
    {
     "data": {
      "text/plain": [
       "[0.46459099650382996, 0.7705521583557129]"
      ]
     },
     "execution_count": 37,
     "metadata": {},
     "output_type": "execute_result"
    }
   ],
   "source": [
    "model.evaluate(X_test, y_test)"
   ]
  },
  {
   "cell_type": "markdown",
   "metadata": {},
   "source": [
    "Predicting the model and converting the output as 1 and 0 using 0.5 as threshold"
   ]
  },
  {
   "cell_type": "code",
   "execution_count": 38,
   "metadata": {},
   "outputs": [],
   "source": [
    "y_predicted = model.predict(X_test)\n",
    "y_predicted = np.asanyarray(y_predicted)\n",
    "y_predict = []\n",
    "for i in range(len(y_predicted)):\n",
    "    if y_predicted[i] > 0.5:\n",
    "        y_predict.append(1)\n",
    "    else:\n",
    "        y_predict.append(0)"
   ]
  },
  {
   "cell_type": "markdown",
   "metadata": {},
   "source": [
    "Confusion Matrix"
   ]
  },
  {
   "cell_type": "code",
   "execution_count": 39,
   "metadata": {},
   "outputs": [
    {
     "data": {
      "text/plain": [
       "array([[311,  92],\n",
       "       [ 95, 317]], dtype=int64)"
      ]
     },
     "execution_count": 39,
     "metadata": {},
     "output_type": "execute_result"
    }
   ],
   "source": [
    "confusion_matrix(y_test, y_predict)"
   ]
  },
  {
   "cell_type": "markdown",
   "metadata": {},
   "source": [
    "Classification report"
   ]
  },
  {
   "cell_type": "code",
   "execution_count": 40,
   "metadata": {},
   "outputs": [
    {
     "name": "stdout",
     "output_type": "stream",
     "text": [
      "              precision    recall  f1-score   support\n",
      "\n",
      "           0       0.77      0.77      0.77       403\n",
      "           1       0.78      0.77      0.77       412\n",
      "\n",
      "    accuracy                           0.77       815\n",
      "   macro avg       0.77      0.77      0.77       815\n",
      "weighted avg       0.77      0.77      0.77       815\n",
      "\n"
     ]
    }
   ],
   "source": [
    "print(classification_report(y_test, y_predict))"
   ]
  },
  {
   "cell_type": "markdown",
   "metadata": {},
   "source": [
    "Hence the f1-score of  the classes 0 - (0.92) and 1 - (0.59) has changed to classes 0 - (0.77) and 1 - (0.75)..  \n",
    "So, overall f1 Score is better than the previous ANN model wihout handling imbalanced dataset"
   ]
  },
  {
   "cell_type": "markdown",
   "metadata": {},
   "source": [
    "#  Handling imbalanced data using Oversampling : Duplicate Copy"
   ]
  },
  {
   "cell_type": "code",
   "execution_count": 41,
   "metadata": {},
   "outputs": [
    {
     "data": {
      "text/plain": [
       "(7963, 2037)"
      ]
     },
     "execution_count": 41,
     "metadata": {},
     "output_type": "execute_result"
    }
   ],
   "source": [
    "class_0_counts, class_1_counts"
   ]
  },
  {
   "cell_type": "code",
   "execution_count": 42,
   "metadata": {},
   "outputs": [
    {
     "data": {
      "text/plain": [
       "((7963, 11), (2037, 11))"
      ]
     },
     "execution_count": 42,
     "metadata": {},
     "output_type": "execute_result"
    }
   ],
   "source": [
    "class_0_data.shape, class_1_data.shape"
   ]
  },
  {
   "cell_type": "markdown",
   "metadata": {},
   "source": [
    "Making the dataset equal in number randomly copying any dataset in class1"
   ]
  },
  {
   "cell_type": "code",
   "execution_count": 43,
   "metadata": {},
   "outputs": [
    {
     "data": {
      "text/plain": [
       "((7963, 11), (7963, 11))"
      ]
     },
     "execution_count": 43,
     "metadata": {},
     "output_type": "execute_result"
    }
   ],
   "source": [
    "under_sampled_class_1 = class_1_data.sample(class_0_counts, replace=True)\n",
    "class_0_data.shape, under_sampled_class_1.shape"
   ]
  },
  {
   "cell_type": "markdown",
   "metadata": {},
   "source": [
    "Concatinating both the dataset"
   ]
  },
  {
   "cell_type": "code",
   "execution_count": 44,
   "metadata": {},
   "outputs": [
    {
     "data": {
      "text/plain": [
       "(15926, 11)"
      ]
     },
     "execution_count": 44,
     "metadata": {},
     "output_type": "execute_result"
    }
   ],
   "source": [
    "over_sample_dataset = pd.concat([class_0_data, under_sampled_class_1], axis = 0)\n",
    "over_sample_dataset.shape"
   ]
  },
  {
   "cell_type": "code",
   "execution_count": 45,
   "metadata": {},
   "outputs": [],
   "source": [
    "X = over_sample_dataset.drop('Exited', axis = 1)\n",
    "y = over_sample_dataset['Exited']"
   ]
  },
  {
   "cell_type": "markdown",
   "metadata": {},
   "source": [
    "Splitting the in train and test and executing the ANN Model"
   ]
  },
  {
   "cell_type": "code",
   "execution_count": 46,
   "metadata": {},
   "outputs": [
    {
     "name": "stdout",
     "output_type": "stream",
     "text": [
      "Epoch 1/100\n",
      "1274/1274 [==============================] - 3s 2ms/step - loss: 0.6602 - accuracy: 0.6070\n",
      "Epoch 2/100\n",
      "1274/1274 [==============================] - 3s 2ms/step - loss: 0.5858 - accuracy: 0.7129\n",
      "Epoch 3/100\n",
      "1274/1274 [==============================] - 3s 2ms/step - loss: 0.5433 - accuracy: 0.7422\n",
      "Epoch 4/100\n",
      "1274/1274 [==============================] - 3s 3ms/step - loss: 0.5153 - accuracy: 0.7535\n",
      "Epoch 5/100\n",
      "1274/1274 [==============================] - 4s 3ms/step - loss: 0.4890 - accuracy: 0.7633\n",
      "Epoch 6/100\n",
      "1274/1274 [==============================] - 3s 2ms/step - loss: 0.4845 - accuracy: 0.7659\n",
      "Epoch 7/100\n",
      "1274/1274 [==============================] - 2s 2ms/step - loss: 0.4761 - accuracy: 0.7698\n",
      "Epoch 8/100\n",
      "1274/1274 [==============================] - 2s 1ms/step - loss: 0.4771 - accuracy: 0.7649\n",
      "Epoch 9/100\n",
      "1274/1274 [==============================] - 2s 2ms/step - loss: 0.4756 - accuracy: 0.7653\n",
      "Epoch 10/100\n",
      "1274/1274 [==============================] - 3s 2ms/step - loss: 0.4663 - accuracy: 0.7712\n",
      "Epoch 11/100\n",
      "1274/1274 [==============================] - 3s 3ms/step - loss: 0.4656 - accuracy: 0.7747: 0s - loss: 0.4657 - ac\n",
      "Epoch 12/100\n",
      "1274/1274 [==============================] - 3s 2ms/step - loss: 0.4620 - accuracy: 0.7732\n",
      "Epoch 13/100\n",
      "1274/1274 [==============================] - 2s 2ms/step - loss: 0.4618 - accuracy: 0.7721: \n",
      "Epoch 14/100\n",
      "1274/1274 [==============================] - 2s 2ms/step - loss: 0.4624 - accuracy: 0.7767\n",
      "Epoch 15/100\n",
      "1274/1274 [==============================] - 3s 2ms/step - loss: 0.4621 - accuracy: 0.7771\n",
      "Epoch 16/100\n",
      "1274/1274 [==============================] - 3s 3ms/step - loss: 0.4599 - accuracy: 0.7802\n",
      "Epoch 17/100\n",
      "1274/1274 [==============================] - 3s 3ms/step - loss: 0.4567 - accuracy: 0.7767: 0s - loss: 0.4567 - accu\n",
      "Epoch 18/100\n",
      "1274/1274 [==============================] - 3s 3ms/step - loss: 0.4485 - accuracy: 0.7828: \n",
      "Epoch 19/100\n",
      "1274/1274 [==============================] - 3s 2ms/step - loss: 0.4546 - accuracy: 0.7807\n",
      "Epoch 20/100\n",
      "1274/1274 [==============================] - 3s 2ms/step - loss: 0.4487 - accuracy: 0.7802: 0s - loss: 0.4466 - accuracy: 0.78 - ETA: \n",
      "Epoch 21/100\n",
      "1274/1274 [==============================] - 3s 3ms/step - loss: 0.4489 - accuracy: 0.7849\n",
      "Epoch 22/100\n",
      "1274/1274 [==============================] - 3s 3ms/step - loss: 0.4503 - accuracy: 0.7832\n",
      "Epoch 23/100\n",
      "1274/1274 [==============================] - 3s 2ms/step - loss: 0.4503 - accuracy: 0.7823\n",
      "Epoch 24/100\n",
      "1274/1274 [==============================] - 2s 2ms/step - loss: 0.4507 - accuracy: 0.7855\n",
      "Epoch 25/100\n",
      "1274/1274 [==============================] - 3s 2ms/step - loss: 0.4449 - accuracy: 0.7876: 0s - loss: 0.4444 - accuracy:  - ETA: 0s - loss: 0\n",
      "Epoch 26/100\n",
      "1274/1274 [==============================] - 2s 2ms/step - loss: 0.4410 - accuracy: 0.7914: 0s - loss: 0.4396 - accuracy: 0.79 - ETA: 0s - loss: 0.4\n",
      "Epoch 27/100\n",
      "1274/1274 [==============================] - 3s 3ms/step - loss: 0.4499 - accuracy: 0.7805\n",
      "Epoch 28/100\n",
      "1274/1274 [==============================] - ETA: 0s - loss: 0.4534 - accuracy: 0.78 - 3s 3ms/step - loss: 0.4533 - accuracy: 0.7820\n",
      "Epoch 29/100\n",
      "1274/1274 [==============================] - 2s 2ms/step - loss: 0.4412 - accuracy: 0.7880: 0s - loss: 0.4413 \n",
      "Epoch 30/100\n",
      "1274/1274 [==============================] - 3s 2ms/step - loss: 0.4426 - accuracy: 0.7840\n",
      "Epoch 31/100\n",
      "1274/1274 [==============================] - 3s 2ms/step - loss: 0.4417 - accuracy: 0.7901\n",
      "Epoch 32/100\n",
      "1274/1274 [==============================] - 2s 2ms/step - loss: 0.4399 - accuracy: 0.7893\n",
      "Epoch 33/100\n",
      "1274/1274 [==============================] - 3s 2ms/step - loss: 0.4412 - accuracy: 0.7928\n",
      "Epoch 34/100\n",
      "1274/1274 [==============================] - 3s 2ms/step - loss: 0.4426 - accuracy: 0.7902\n",
      "Epoch 35/100\n",
      "1274/1274 [==============================] - 3s 2ms/step - loss: 0.4305 - accuracy: 0.7938\n",
      "Epoch 36/100\n",
      "1274/1274 [==============================] - 3s 2ms/step - loss: 0.4352 - accuracy: 0.7895\n",
      "Epoch 37/100\n",
      "1274/1274 [==============================] - 3s 2ms/step - loss: 0.4364 - accuracy: 0.7906\n",
      "Epoch 38/100\n",
      "1274/1274 [==============================] - 3s 3ms/step - loss: 0.4329 - accuracy: 0.7917: 0s - loss: 0.4322 \n",
      "Epoch 39/100\n",
      "1274/1274 [==============================] - 3s 3ms/step - loss: 0.4387 - accuracy: 0.7942\n",
      "Epoch 40/100\n",
      "1274/1274 [==============================] - 3s 3ms/step - loss: 0.4410 - accuracy: 0.7894\n",
      "Epoch 41/100\n",
      "1274/1274 [==============================] - 3s 2ms/step - loss: 0.4339 - accuracy: 0.7976: 0s - loss: 0.4331 - accuracy: 0. - ETA: 0s - loss: 0.4333 - accu\n",
      "Epoch 42/100\n",
      "1274/1274 [==============================] - 3s 2ms/step - loss: 0.4382 - accuracy: 0.7979\n",
      "Epoch 43/100\n",
      "1274/1274 [==============================] - 3s 2ms/step - loss: 0.4369 - accuracy: 0.7997: 0s - loss: 0.4\n",
      "Epoch 44/100\n",
      "1274/1274 [==============================] - 3s 2ms/step - loss: 0.4376 - accuracy: 0.7921\n",
      "Epoch 45/100\n",
      "1274/1274 [==============================] - 3s 2ms/step - loss: 0.4317 - accuracy: 0.7997: 0s - loss: 0.4310 - \n",
      "Epoch 46/100\n",
      "1274/1274 [==============================] - 2s 2ms/step - loss: 0.4337 - accuracy: 0.7943\n",
      "Epoch 47/100\n",
      "1274/1274 [==============================] - 2s 2ms/step - loss: 0.4387 - accuracy: 0.7935\n",
      "Epoch 48/100\n",
      "1274/1274 [==============================] - 2s 1ms/step - loss: 0.4298 - accuracy: 0.7965\n",
      "Epoch 49/100\n",
      "1274/1274 [==============================] - 2s 1ms/step - loss: 0.4262 - accuracy: 0.7973\n",
      "Epoch 50/100\n",
      "1274/1274 [==============================] - 2s 2ms/step - loss: 0.4367 - accuracy: 0.7914\n",
      "Epoch 51/100\n",
      "1274/1274 [==============================] - 2s 2ms/step - loss: 0.4368 - accuracy: 0.7916\n",
      "Epoch 52/100\n",
      "1274/1274 [==============================] - 2s 2ms/step - loss: 0.4485 - accuracy: 0.7847\n",
      "Epoch 53/100\n",
      "1274/1274 [==============================] - 2s 1ms/step - loss: 0.4304 - accuracy: 0.7969\n",
      "Epoch 54/100\n",
      "1274/1274 [==============================] - 2s 2ms/step - loss: 0.4400 - accuracy: 0.7880\n",
      "Epoch 55/100\n",
      "1274/1274 [==============================] - 3s 2ms/step - loss: 0.4347 - accuracy: 0.7918\n",
      "Epoch 56/100\n",
      "1274/1274 [==============================] - 2s 2ms/step - loss: 0.4388 - accuracy: 0.7928\n",
      "Epoch 57/100\n",
      "1274/1274 [==============================] - 3s 2ms/step - loss: 0.4318 - accuracy: 0.7971\n",
      "Epoch 58/100\n",
      "1274/1274 [==============================] - 4s 3ms/step - loss: 0.4347 - accuracy: 0.7926\n",
      "Epoch 59/100\n",
      "1274/1274 [==============================] - 3s 2ms/step - loss: 0.4285 - accuracy: 0.8002\n",
      "Epoch 60/100\n",
      "1274/1274 [==============================] - 2s 2ms/step - loss: 0.4347 - accuracy: 0.7988: 0s - loss: 0.4348 - accuracy\n",
      "Epoch 61/100\n",
      "1274/1274 [==============================] - 2s 2ms/step - loss: 0.4368 - accuracy: 0.7956\n",
      "Epoch 62/100\n",
      "1274/1274 [==============================] - 3s 2ms/step - loss: 0.4308 - accuracy: 0.7972: 1s - l - ETA: 0s -\n",
      "Epoch 63/100\n",
      "1274/1274 [==============================] - 4s 3ms/step - loss: 0.4373 - accuracy: 0.7910\n",
      "Epoch 64/100\n",
      "1274/1274 [==============================] - 3s 2ms/step - loss: 0.4309 - accuracy: 0.7952: 0s - loss: 0.4309 - accuracy: 0.79\n",
      "Epoch 65/100\n",
      "1274/1274 [==============================] - 2s 2ms/step - loss: 0.4321 - accuracy: 0.7962\n",
      "Epoch 66/100\n",
      "1274/1274 [==============================] - 2s 1ms/step - loss: 0.4331 - accuracy: 0.7934\n",
      "Epoch 67/100\n",
      "1274/1274 [==============================] - 2s 2ms/step - loss: 0.4276 - accuracy: 0.7962: 0s - loss: 0\n",
      "Epoch 68/100\n",
      "1274/1274 [==============================] - 2s 2ms/step - loss: 0.4290 - accuracy: 0.8026\n",
      "Epoch 69/100\n",
      "1274/1274 [==============================] - 3s 3ms/step - loss: 0.4245 - accuracy: 0.8014:  - ETA: 1s - loss: 0.4 - ETA: 0s - loss: 0.4 - ETA: 0s - loss: 0.424\n",
      "Epoch 70/100\n",
      "1274/1274 [==============================] - 3s 2ms/step - loss: 0.4376 - accuracy: 0.7947\n",
      "Epoch 71/100\n",
      "1274/1274 [==============================] - 3s 2ms/step - loss: 0.4309 - accuracy: 0.8037\n",
      "Epoch 72/100\n",
      "1274/1274 [==============================] - 2s 2ms/step - loss: 0.4249 - accuracy: 0.7961\n",
      "Epoch 73/100\n",
      "1274/1274 [==============================] - 3s 2ms/step - loss: 0.4336 - accuracy: 0.7926\n",
      "Epoch 74/100\n",
      "1274/1274 [==============================] - 2s 2ms/step - loss: 0.4282 - accuracy: 0.8009\n",
      "Epoch 75/100\n",
      "1274/1274 [==============================] - 2s 2ms/step - loss: 0.4257 - accuracy: 0.7976: 0s - loss: 0.4249 \n",
      "Epoch 76/100\n",
      "1274/1274 [==============================] - 3s 2ms/step - loss: 0.4226 - accuracy: 0.8005: 0s - loss:\n",
      "Epoch 77/100\n",
      "1274/1274 [==============================] - 2s 2ms/step - loss: 0.4308 - accuracy: 0.7957: 1s - ETA: 0s - los - ETA: 0s - loss: 0.4313 - ac\n",
      "Epoch 78/100\n",
      "1274/1274 [==============================] - 2s 2ms/step - loss: 0.4246 - accuracy: 0.8032: 0s - loss: 0.4244 - accuracy: 0.\n",
      "Epoch 79/100\n",
      "1274/1274 [==============================] - 3s 2ms/step - loss: 0.4227 - accuracy: 0.8006\n",
      "Epoch 80/100\n",
      "1274/1274 [==============================] - 2s 2ms/step - loss: 0.4339 - accuracy: 0.7955\n",
      "Epoch 81/100\n",
      "1274/1274 [==============================] - 2s 1ms/step - loss: 0.4217 - accuracy: 0.8050: 0s -\n",
      "Epoch 82/100\n",
      "1274/1274 [==============================] - 3s 2ms/step - loss: 0.4237 - accuracy: 0.8074: 0s - l\n",
      "Epoch 83/100\n",
      "1274/1274 [==============================] - 3s 2ms/step - loss: 0.4309 - accuracy: 0.7977\n",
      "Epoch 84/100\n",
      "1274/1274 [==============================] - 3s 2ms/step - loss: 0.4282 - accuracy: 0.7955: 0s -\n",
      "Epoch 85/100\n",
      "1274/1274 [==============================] - 3s 3ms/step - loss: 0.4268 - accuracy: 0.8004\n",
      "Epoch 86/100\n",
      "1274/1274 [==============================] - 3s 2ms/step - loss: 0.4246 - accuracy: 0.7992\n",
      "Epoch 87/100\n",
      "1274/1274 [==============================] - 4s 3ms/step - loss: 0.4249 - accuracy: 0.7986: 0s - loss: 0.4246 - ac\n",
      "Epoch 88/100\n",
      "1274/1274 [==============================] - 3s 3ms/step - loss: 0.4267 - accuracy: 0.8005\n",
      "Epoch 89/100\n",
      "1274/1274 [==============================] - 2s 2ms/step - loss: 0.4299 - accuracy: 0.7994: 0s - l\n",
      "Epoch 90/100\n",
      "1274/1274 [==============================] - 2s 2ms/step - loss: 0.4270 - accuracy: 0.7983\n",
      "Epoch 91/100\n",
      "1274/1274 [==============================] - 2s 2ms/step - loss: 0.4249 - accuracy: 0.7992\n",
      "Epoch 92/100\n",
      "1274/1274 [==============================] - 2s 1ms/step - loss: 0.4233 - accuracy: 0.7989\n",
      "Epoch 93/100\n",
      "1274/1274 [==============================] - 2s 1ms/step - loss: 0.4324 - accuracy: 0.7949\n",
      "Epoch 94/100\n",
      "1274/1274 [==============================] - 2s 2ms/step - loss: 0.4272 - accuracy: 0.8038\n",
      "Epoch 95/100\n",
      "1274/1274 [==============================] - 2s 2ms/step - loss: 0.4228 - accuracy: 0.8030\n",
      "Epoch 96/100\n",
      "1274/1274 [==============================] - 2s 2ms/step - loss: 0.4204 - accuracy: 0.8051\n",
      "Epoch 97/100\n",
      "1274/1274 [==============================] - 2s 2ms/step - loss: 0.4333 - accuracy: 0.7948: 0s -\n",
      "Epoch 98/100\n",
      "1274/1274 [==============================] - 2s 2ms/step - loss: 0.4232 - accuracy: 0.8006: 0s - loss: 0.4229 - accura\n",
      "Epoch 99/100\n",
      "1274/1274 [==============================] - 2s 1ms/step - loss: 0.4243 - accuracy: 0.8063\n",
      "Epoch 100/100\n",
      "1274/1274 [==============================] - 2s 1ms/step - loss: 0.4320 - accuracy: 0.7964: 0s\n"
     ]
    },
    {
     "data": {
      "text/plain": [
       "<tensorflow.python.keras.callbacks.History at 0x21e88c38ac8>"
      ]
     },
     "execution_count": 46,
     "metadata": {},
     "output_type": "execute_result"
    }
   ],
   "source": [
    "X_train, X_test, y_train, y_test = train_test_split(X, y, test_size = 0.2, random_state = 43)\n",
    "\n",
    "model = keras.Sequential([\n",
    "    keras.layers.Dense(15, input_shape = (10, ), activation = 'relu'),\n",
    "    keras.layers.Dense(10, activation = 'relu'),\n",
    "    keras.layers.Dense(1,activation='sigmoid')\n",
    "])\n",
    "\n",
    "model.compile(\n",
    "    optimizer = 'adam',\n",
    "    loss = 'binary_crossentropy', \n",
    "    metrics = ['accuracy']\n",
    ")\n",
    "\n",
    "model.fit(X_train, y_train, epochs=100, batch_size = 10)"
   ]
  },
  {
   "cell_type": "markdown",
   "metadata": {},
   "source": [
    "Evaluating the Model"
   ]
  },
  {
   "cell_type": "code",
   "execution_count": 47,
   "metadata": {},
   "outputs": [
    {
     "name": "stdout",
     "output_type": "stream",
     "text": [
      "100/100 [==============================] - 0s 1ms/step - loss: 0.4276 - accuracy: 0.7897\n"
     ]
    },
    {
     "data": {
      "text/plain": [
       "[0.4276498556137085, 0.7897049784660339]"
      ]
     },
     "execution_count": 47,
     "metadata": {},
     "output_type": "execute_result"
    }
   ],
   "source": [
    "model.evaluate(X_test, y_test)"
   ]
  },
  {
   "cell_type": "markdown",
   "metadata": {},
   "source": [
    "Predicting the model and converting the output as 1 and 0 using 0.5 as threshold"
   ]
  },
  {
   "cell_type": "code",
   "execution_count": 48,
   "metadata": {},
   "outputs": [],
   "source": [
    "y_predicted = model.predict(X_test)\n",
    "y_predicted = np.asanyarray(y_predicted)\n",
    "y_predict = []\n",
    "for i in range(len(y_predicted)):\n",
    "    if y_predicted[i] > 0.5:\n",
    "        y_predict.append(1)\n",
    "    else:\n",
    "        y_predict.append(0)"
   ]
  },
  {
   "cell_type": "markdown",
   "metadata": {},
   "source": [
    "Confusion Matrix"
   ]
  },
  {
   "cell_type": "code",
   "execution_count": 49,
   "metadata": {},
   "outputs": [
    {
     "data": {
      "text/plain": [
       "array([[1317,  267],\n",
       "       [ 403, 1199]], dtype=int64)"
      ]
     },
     "execution_count": 49,
     "metadata": {},
     "output_type": "execute_result"
    }
   ],
   "source": [
    "confusion_matrix(y_test, y_predict)"
   ]
  },
  {
   "cell_type": "markdown",
   "metadata": {},
   "source": [
    "Classification Report"
   ]
  },
  {
   "cell_type": "code",
   "execution_count": 50,
   "metadata": {},
   "outputs": [
    {
     "name": "stdout",
     "output_type": "stream",
     "text": [
      "              precision    recall  f1-score   support\n",
      "\n",
      "           0       0.77      0.83      0.80      1584\n",
      "           1       0.82      0.75      0.78      1602\n",
      "\n",
      "    accuracy                           0.79      3186\n",
      "   macro avg       0.79      0.79      0.79      3186\n",
      "weighted avg       0.79      0.79      0.79      3186\n",
      "\n"
     ]
    }
   ],
   "source": [
    "print(classification_report(y_test, y_predict))"
   ]
  },
  {
   "cell_type": "markdown",
   "metadata": {},
   "source": [
    "Hence the f1-score of  the classes 0 - (0.92) and 1 - (0.59) has changed to classes 0 - (0.80) and 1 - (0.79)..  \n",
    "So, overall f1 Score is better than the previous ANN model wihout handling imbalanced dataset"
   ]
  },
  {
   "cell_type": "markdown",
   "metadata": {},
   "source": [
    "#  Handling imbalanced data using Oversampling : SMOTE"
   ]
  },
  {
   "cell_type": "code",
   "execution_count": 51,
   "metadata": {},
   "outputs": [
    {
     "data": {
      "text/plain": [
       "(7963, 2037)"
      ]
     },
     "execution_count": 51,
     "metadata": {},
     "output_type": "execute_result"
    }
   ],
   "source": [
    "class_0_counts, class_1_counts"
   ]
  },
  {
   "cell_type": "markdown",
   "metadata": {},
   "source": [
    "Splitting X and y data"
   ]
  },
  {
   "cell_type": "code",
   "execution_count": 52,
   "metadata": {},
   "outputs": [],
   "source": [
    "X = data.drop('Exited', axis = 1)\n",
    "y = data['Exited']"
   ]
  },
  {
   "cell_type": "markdown",
   "metadata": {},
   "source": [
    "SMOTE uses KNN to make duplicate dataset which is better than randomly copying the data "
   ]
  },
  {
   "cell_type": "code",
   "execution_count": null,
   "metadata": {},
   "outputs": [],
   "source": [
    "!pip install imbalanced-learn"
   ]
  },
  {
   "cell_type": "code",
   "execution_count": 53,
   "metadata": {},
   "outputs": [
    {
     "ename": "ModuleNotFoundError",
     "evalue": "No module named 'imblearn'",
     "output_type": "error",
     "traceback": [
      "\u001b[1;31m---------------------------------------------------------------------------\u001b[0m",
      "\u001b[1;31mModuleNotFoundError\u001b[0m                       Traceback (most recent call last)",
      "\u001b[1;32m<ipython-input-53-0b052d41b57a>\u001b[0m in \u001b[0;36m<module>\u001b[1;34m\u001b[0m\n\u001b[1;32m----> 1\u001b[1;33m \u001b[1;32mfrom\u001b[0m \u001b[0mimblearn\u001b[0m\u001b[1;33m.\u001b[0m\u001b[0mover_sampling\u001b[0m \u001b[1;32mimport\u001b[0m \u001b[0mSMOTE\u001b[0m\u001b[1;33m\u001b[0m\u001b[1;33m\u001b[0m\u001b[0m\n\u001b[0m",
      "\u001b[1;31mModuleNotFoundError\u001b[0m: No module named 'imblearn'"
     ]
    }
   ],
   "source": [
    "from imblearn.over_sampling import SMOTE"
   ]
  },
  {
   "cell_type": "code",
   "execution_count": null,
   "metadata": {},
   "outputs": [],
   "source": [
    "smote = SMOTE(sampling_strategy='minority')\n",
    "X_data, y_data = smote.fit_sample(X, y)"
   ]
  },
  {
   "cell_type": "code",
   "execution_count": null,
   "metadata": {},
   "outputs": [],
   "source": [
    "y_data.value_counts()\n",
    "# both the classes data is same"
   ]
  },
  {
   "cell_type": "markdown",
   "metadata": {},
   "source": [
    "Splitting the train and test sample and executing the ANN model"
   ]
  },
  {
   "cell_type": "code",
   "execution_count": null,
   "metadata": {},
   "outputs": [],
   "source": [
    "X_train, X_test, y_train, y_test = train_test_split(X_data, y_data, test_size = 0.2, random_state = 43)\n",
    "\n",
    "model = keras.Sequential([\n",
    "    keras.layers.Dense(15, input_shape = (10, ), activation = 'relu'),\n",
    "    keras.layers.Dense(10, activation = 'relu'),\n",
    "    keras.layers.Dense(1,activation='sigmoid')\n",
    "])\n",
    "\n",
    "model.compile(\n",
    "    optimizer = 'adam',\n",
    "    loss = 'binary_crossentropy', \n",
    "    metrics = ['accuracy']\n",
    ")\n",
    "\n",
    "model.fit(X_train, y_train, epochs=100, batch_size = 10)"
   ]
  },
  {
   "cell_type": "markdown",
   "metadata": {},
   "source": [
    "Evaluating the Model"
   ]
  },
  {
   "cell_type": "code",
   "execution_count": null,
   "metadata": {},
   "outputs": [],
   "source": [
    "model.evaluate(X_test, y_test)"
   ]
  },
  {
   "cell_type": "markdown",
   "metadata": {},
   "source": [
    "Predicting the model and converting the output as 1 and 0 using 0.5 as threshold"
   ]
  },
  {
   "cell_type": "code",
   "execution_count": null,
   "metadata": {},
   "outputs": [],
   "source": [
    "y_predicted = model.predict(X_test)\n",
    "y_predicted = np.asanyarray(y_predicted)\n",
    "y_predict = []\n",
    "for i in range(len(y_predicted)):\n",
    "    if y_predicted[i] > 0.5:\n",
    "        y_predict.append(1)\n",
    "    else:\n",
    "        y_predict.append(0)"
   ]
  },
  {
   "cell_type": "markdown",
   "metadata": {},
   "source": [
    "Confusion Matrix"
   ]
  },
  {
   "cell_type": "code",
   "execution_count": null,
   "metadata": {},
   "outputs": [],
   "source": [
    "confusion_matrix(y_test, y_predict)"
   ]
  },
  {
   "cell_type": "markdown",
   "metadata": {},
   "source": [
    "Classification Report"
   ]
  },
  {
   "cell_type": "code",
   "execution_count": null,
   "metadata": {},
   "outputs": [],
   "source": [
    "print(classification_report(y_test, y_predict))"
   ]
  },
  {
   "cell_type": "markdown",
   "metadata": {},
   "source": [
    "Hence the f1-score of  the classes 0 - (0.92) and 1 - (0.59) has changed to classes 0 - (0.80) and 1 - (0.79)..  \n",
    "So, overall f1 Score is better than the previous ANN model wihout handling imbalanced dataset"
   ]
  },
  {
   "cell_type": "markdown",
   "metadata": {},
   "source": [
    "#  Handling imbalanced data using Ensemble"
   ]
  },
  {
   "cell_type": "code",
   "execution_count": null,
   "metadata": {},
   "outputs": [],
   "source": [
    "X = data.drop('Exited', axis = 1)\n",
    "y = data['Exited']\n",
    "X_train, X_test, y_train, y_test = train_test_split(X, y, test_size = 0.2, random_state = 43)"
   ]
  },
  {
   "cell_type": "code",
   "execution_count": null,
   "metadata": {},
   "outputs": [],
   "source": [
    "data['Exited'].value_counts()"
   ]
  },
  {
   "cell_type": "code",
   "execution_count": null,
   "metadata": {},
   "outputs": [],
   "source": [
    "class_0_data.shape, class_1_data.shape"
   ]
  },
  {
   "cell_type": "code",
   "execution_count": null,
   "metadata": {},
   "outputs": [],
   "source": [
    "print(\"Actual count\", (7963/2037))\n",
    "print(\"Round of count\", round(7963/2037))"
   ]
  },
  {
   "cell_type": "markdown",
   "metadata": {},
   "source": [
    "The data is approximately in ratio of 4"
   ]
  },
  {
   "cell_type": "markdown",
   "metadata": {},
   "source": [
    "Now taking the dataset of class 0 and class 1 and making them equal in examples by dividing the training set in same  \n",
    "length as test data and creaing different models"
   ]
  },
  {
   "cell_type": "markdown",
   "metadata": {},
   "source": [
    "Creating the Funtion to make different classes of dataset "
   ]
  },
  {
   "cell_type": "code",
   "execution_count": null,
   "metadata": {},
   "outputs": [],
   "source": [
    "def creating_class_of_same_training_and_testing_dataset(start_index, end_index):\n",
    "    dataset_ = pd.concat([class_0_data[start_index:end_index], class_1_data], axis = 0)\n",
    "    X_train = dataset_.drop('Exited', axis = 1)\n",
    "    y_train = dataset_['Exited']\n",
    "    return X_train, y_train\n",
    "    "
   ]
  },
  {
   "cell_type": "markdown",
   "metadata": {},
   "source": [
    "Creating 4 different datset classes of same number of both same training and testing dataset "
   ]
  },
  {
   "cell_type": "code",
   "execution_count": null,
   "metadata": {},
   "outputs": [],
   "source": [
    "X_train1, y_train1 = creating_class_of_same_training_and_testing_dataset(0,2037)\n",
    "X_train2, y_train2 = creating_class_of_same_training_and_testing_dataset(2037,4074)\n",
    "X_train3, y_train3 = creating_class_of_same_training_and_testing_dataset(4074,6111)\n",
    "X_train4, y_train4 = creating_class_of_same_training_and_testing_dataset(6111,7964)"
   ]
  },
  {
   "cell_type": "code",
   "execution_count": null,
   "metadata": {},
   "outputs": [],
   "source": [
    "X_train1.shape, X_test.shape"
   ]
  },
  {
   "cell_type": "code",
   "execution_count": null,
   "metadata": {},
   "outputs": [],
   "source": [
    "model = keras.Sequential([\n",
    "    keras.layers.Dense(15, input_shape = (10, ), activation = 'relu'),\n",
    "    keras.layers.Dense(10, activation = 'relu'),\n",
    "    keras.layers.Dense(1,activation='sigmoid')\n",
    "])\n",
    "\n",
    "model.compile(\n",
    "    optimizer = 'adam',\n",
    "    loss = 'binary_crossentropy', \n",
    "    metrics = ['accuracy']\n",
    ")\n",
    "\n",
    "model.fit(X_train1, y_train1, epochs=100, batch_size = 10)"
   ]
  },
  {
   "cell_type": "code",
   "execution_count": null,
   "metadata": {},
   "outputs": [],
   "source": [
    "model.evaluate(X_test, y_test)"
   ]
  },
  {
   "cell_type": "code",
   "execution_count": null,
   "metadata": {},
   "outputs": [],
   "source": [
    "y_predicted_1 = model.predict(X_test)\n",
    "y_predicted_1 = np.asanyarray(y_predicted_1)\n",
    "y_predict_1 = []\n",
    "for i in range(len(y_predicted_1)):\n",
    "    if y_predicted_1[i] > 0.5:\n",
    "        y_predict_1.append(1)\n",
    "    else:\n",
    "        y_predict_1.append(0)"
   ]
  },
  {
   "cell_type": "code",
   "execution_count": null,
   "metadata": {},
   "outputs": [],
   "source": [
    "print(classification_report(y_test, y_predict_1))"
   ]
  },
  {
   "cell_type": "markdown",
   "metadata": {},
   "source": [
    "for 2nd class dataset"
   ]
  },
  {
   "cell_type": "code",
   "execution_count": null,
   "metadata": {},
   "outputs": [],
   "source": [
    "X_train2.shape, X_test.shape"
   ]
  },
  {
   "cell_type": "code",
   "execution_count": null,
   "metadata": {},
   "outputs": [],
   "source": [
    "model = keras.Sequential([\n",
    "    keras.layers.Dense(15, input_shape = (10, ), activation = 'relu'),\n",
    "    keras.layers.Dense(10, activation = 'relu'),\n",
    "    keras.layers.Dense(1,activation='sigmoid')\n",
    "])\n",
    "\n",
    "model.compile(\n",
    "    optimizer = 'adam',\n",
    "    loss = 'binary_crossentropy', \n",
    "    metrics = ['accuracy']\n",
    ")\n",
    "\n",
    "model.fit(X_train2, y_train2, epochs=100, batch_size = 10)"
   ]
  },
  {
   "cell_type": "code",
   "execution_count": null,
   "metadata": {},
   "outputs": [],
   "source": [
    "model.evaluate(X_test, y_test)"
   ]
  },
  {
   "cell_type": "code",
   "execution_count": null,
   "metadata": {},
   "outputs": [],
   "source": [
    "y_predicted_2 = model.predict(X_test)\n",
    "y_predicted_2 = np.asanyarray(y_predicted_2)\n",
    "y_predict_2 = []\n",
    "for i in range(len(y_predicted_2)):\n",
    "    if y_predicted_2[i] > 0.5:\n",
    "        y_predict_2.append(1)\n",
    "    else:\n",
    "        y_predict_2.append(0)"
   ]
  },
  {
   "cell_type": "code",
   "execution_count": null,
   "metadata": {},
   "outputs": [],
   "source": [
    "print(classification_report(y_test, y_predict_2))"
   ]
  },
  {
   "cell_type": "markdown",
   "metadata": {},
   "source": [
    "for 3rd class dataset"
   ]
  },
  {
   "cell_type": "code",
   "execution_count": null,
   "metadata": {},
   "outputs": [],
   "source": [
    "X_train3.shape, X_test.shape"
   ]
  },
  {
   "cell_type": "code",
   "execution_count": null,
   "metadata": {},
   "outputs": [],
   "source": [
    "model = keras.Sequential([\n",
    "    keras.layers.Dense(15, input_shape = (10, ), activation = 'relu'),\n",
    "    keras.layers.Dense(10, activation = 'relu'),\n",
    "    keras.layers.Dense(1,activation='sigmoid')\n",
    "])\n",
    "\n",
    "model.compile(\n",
    "    optimizer = 'adam',\n",
    "    loss = 'binary_crossentropy', \n",
    "    metrics = ['accuracy']\n",
    ")\n",
    "\n",
    "model.fit(X_train3, y_train3, epochs=100, batch_size = 10)"
   ]
  },
  {
   "cell_type": "code",
   "execution_count": null,
   "metadata": {},
   "outputs": [],
   "source": [
    "model.evaluate(X_test, y_test)"
   ]
  },
  {
   "cell_type": "code",
   "execution_count": null,
   "metadata": {},
   "outputs": [],
   "source": [
    "y_predicted_3 = model.predict(X_test)\n",
    "y_predicted_3 = np.asanyarray(y_predicted_3)\n",
    "y_predict_3 = []\n",
    "for i in range(len(y_predicted_3)):\n",
    "    if y_predicted_3[i] > 0.5:\n",
    "        y_predict_3.append(1)\n",
    "    else:\n",
    "        y_predict_3.append(0)"
   ]
  },
  {
   "cell_type": "code",
   "execution_count": null,
   "metadata": {},
   "outputs": [],
   "source": [
    "print(classification_report(y_test, y_predict_3))"
   ]
  },
  {
   "cell_type": "markdown",
   "metadata": {},
   "source": [
    "for 4th class dataset"
   ]
  },
  {
   "cell_type": "code",
   "execution_count": null,
   "metadata": {},
   "outputs": [],
   "source": [
    "X_train4.shape, X_test.shape"
   ]
  },
  {
   "cell_type": "code",
   "execution_count": null,
   "metadata": {},
   "outputs": [],
   "source": [
    "model = keras.Sequential([\n",
    "    keras.layers.Dense(15, input_shape = (10, ), activation = 'relu'),\n",
    "    keras.layers.Dense(10, activation = 'relu'),\n",
    "    keras.layers.Dense(1,activation='sigmoid')\n",
    "])\n",
    "\n",
    "model.compile(\n",
    "    optimizer = 'adam',\n",
    "    loss = 'binary_crossentropy', \n",
    "    metrics = ['accuracy']\n",
    ")\n",
    "\n",
    "model.fit(X_train4, y_train4, epochs=100, batch_size = 10)"
   ]
  },
  {
   "cell_type": "code",
   "execution_count": null,
   "metadata": {},
   "outputs": [],
   "source": [
    "model.evaluate(X_test, y_test)"
   ]
  },
  {
   "cell_type": "code",
   "execution_count": null,
   "metadata": {},
   "outputs": [],
   "source": [
    "y_predicted_4 = model.predict(X_test)\n",
    "y_predicted_4 = np.asanyarray(y_predicted_4)\n",
    "y_predict_4 = []\n",
    "for i in range(len(y_predicted_4)):\n",
    "    if y_predicted_4[i] > 0.5:\n",
    "        y_predict_4.append(1)\n",
    "    else:\n",
    "        y_predict_4.append(0)"
   ]
  },
  {
   "cell_type": "code",
   "execution_count": null,
   "metadata": {},
   "outputs": [],
   "source": [
    "print(classification_report(y_test, y_predict_4))"
   ]
  },
  {
   "cell_type": "code",
   "execution_count": null,
   "metadata": {},
   "outputs": [],
   "source": [
    "len(y_predict_1),len(y_predict_2), len(y_predict_3),len(y_predict_4)"
   ]
  },
  {
   "cell_type": "markdown",
   "metadata": {},
   "source": [
    "The majority vote out of all the y_predicted values"
   ]
  },
  {
   "cell_type": "markdown",
   "metadata": {},
   "source": [
    "As i have even classes, so i am taking the copy of maximum precision and recall class(y_predict_3) and when he count \n",
    "is 2 then i am assigning the value as of y_predict_3"
   ]
  },
  {
   "cell_type": "code",
   "execution_count": null,
   "metadata": {},
   "outputs": [],
   "source": [
    "y_predict_result = y_predict_3.copy()\n",
    "for i in range(len(y_predict_4)):\n",
    "    value = y_predict_1[i] + y_predict_2[i]+ y_predict_3[i] + y_predict_4[i]\n",
    "    if value <= 1:\n",
    "        y_predict_result[i] = 0\n",
    "    if value == 2 :\n",
    "        y_predict_result[i] = y_predict_3[i]\n",
    "    if value > 2 :\n",
    "        y_predict_result[i] = 1\n",
    "    "
   ]
  },
  {
   "cell_type": "markdown",
   "metadata": {},
   "source": [
    "Final confusion matrix of ensemble method"
   ]
  },
  {
   "cell_type": "code",
   "execution_count": null,
   "metadata": {},
   "outputs": [],
   "source": [
    "confusion_matrix(y_test, y_predict_result)"
   ]
  },
  {
   "cell_type": "markdown",
   "metadata": {},
   "source": [
    "Final classification report of ensemble method"
   ]
  },
  {
   "cell_type": "code",
   "execution_count": null,
   "metadata": {},
   "outputs": [],
   "source": [
    "print(classification_report(y_test, y_predict_result))"
   ]
  },
  {
   "cell_type": "markdown",
   "metadata": {},
   "source": [
    "Hence the f1-score of  the classes 0 - (0.92) and 1 - (0.59) has changed to classes 0 - (0.87) and 1 - (0.60)..  \n",
    "So, overall f1 Score is better than the previous ANN model wihout handling imbalanced dataset"
   ]
  },
  {
   "cell_type": "code",
   "execution_count": null,
   "metadata": {},
   "outputs": [],
   "source": []
  }
 ],
 "metadata": {
  "kernelspec": {
   "display_name": "Python 3",
   "language": "python",
   "name": "python3"
  },
  "language_info": {
   "codemirror_mode": {
    "name": "ipython",
    "version": 3
   },
   "file_extension": ".py",
   "mimetype": "text/x-python",
   "name": "python",
   "nbconvert_exporter": "python",
   "pygments_lexer": "ipython3",
   "version": "3.7.9"
  }
 },
 "nbformat": 4,
 "nbformat_minor": 4
}
